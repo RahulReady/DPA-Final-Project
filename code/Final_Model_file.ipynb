{
  "nbformat": 4,
  "nbformat_minor": 0,
  "metadata": {
    "colab": {
      "name": "LDA_features_new.ipynb",
      "provenance": [],
      "collapsed_sections": [],
      "machine_shape": "hm",
      "authorship_tag": "ABX9TyOCx58wDU4C7Mqmi17vhSTg",
      "include_colab_link": true
    },
    "kernelspec": {
      "name": "python3",
      "display_name": "Python 3"
    },
    "accelerator": "TPU"
  },
  "cells": [
    {
      "cell_type": "markdown",
      "metadata": {
        "id": "view-in-github",
        "colab_type": "text"
      },
      "source": [
        "<a href=\"https://colab.research.google.com/github/RahulReady/DPA-Final-Project/blob/master/LDA_features_new_final.ipynb\" target=\"_parent\"><img src=\"https://colab.research.google.com/assets/colab-badge.svg\" alt=\"Open In Colab\"/></a>"
      ]
    },
    {
      "cell_type": "code",
      "metadata": {
        "id": "3LLVMPL72JHt",
        "colab_type": "code",
        "outputId": "6e9eeae9-e292-4feb-9825-e8e7c1cac657",
        "colab": {
          "base_uri": "https://localhost:8080/",
          "height": 453
        }
      },
      "source": [
        "pip install gensim==3.4.0"
      ],
      "execution_count": 1,
      "outputs": [
        {
          "output_type": "stream",
          "text": [
            "Collecting gensim==3.4.0\n",
            "\u001b[?25l  Downloading https://files.pythonhosted.org/packages/33/33/df6cb7acdcec5677ed130f4800f67509d24dbec74a03c329fcbf6b0864f0/gensim-3.4.0-cp36-cp36m-manylinux1_x86_64.whl (22.6MB)\n",
            "\u001b[K     |████████████████████████████████| 22.6MB 1.2MB/s \n",
            "\u001b[?25hRequirement already satisfied: six>=1.5.0 in /usr/local/lib/python3.6/dist-packages (from gensim==3.4.0) (1.12.0)\n",
            "Requirement already satisfied: numpy>=1.11.3 in /usr/local/lib/python3.6/dist-packages (from gensim==3.4.0) (1.18.3)\n",
            "Requirement already satisfied: scipy>=0.18.1 in /usr/local/lib/python3.6/dist-packages (from gensim==3.4.0) (1.4.1)\n",
            "Requirement already satisfied: smart-open>=1.2.1 in /usr/local/lib/python3.6/dist-packages (from gensim==3.4.0) (1.11.1)\n",
            "Requirement already satisfied: boto in /usr/local/lib/python3.6/dist-packages (from smart-open>=1.2.1->gensim==3.4.0) (2.49.0)\n",
            "Requirement already satisfied: boto3 in /usr/local/lib/python3.6/dist-packages (from smart-open>=1.2.1->gensim==3.4.0) (1.12.43)\n",
            "Requirement already satisfied: requests in /usr/local/lib/python3.6/dist-packages (from smart-open>=1.2.1->gensim==3.4.0) (2.21.0)\n",
            "Requirement already satisfied: jmespath<1.0.0,>=0.7.1 in /usr/local/lib/python3.6/dist-packages (from boto3->smart-open>=1.2.1->gensim==3.4.0) (0.9.5)\n",
            "Requirement already satisfied: botocore<1.16.0,>=1.15.43 in /usr/local/lib/python3.6/dist-packages (from boto3->smart-open>=1.2.1->gensim==3.4.0) (1.15.43)\n",
            "Requirement already satisfied: s3transfer<0.4.0,>=0.3.0 in /usr/local/lib/python3.6/dist-packages (from boto3->smart-open>=1.2.1->gensim==3.4.0) (0.3.3)\n",
            "Requirement already satisfied: idna<2.9,>=2.5 in /usr/local/lib/python3.6/dist-packages (from requests->smart-open>=1.2.1->gensim==3.4.0) (2.8)\n",
            "Requirement already satisfied: certifi>=2017.4.17 in /usr/local/lib/python3.6/dist-packages (from requests->smart-open>=1.2.1->gensim==3.4.0) (2020.4.5.1)\n",
            "Requirement already satisfied: chardet<3.1.0,>=3.0.2 in /usr/local/lib/python3.6/dist-packages (from requests->smart-open>=1.2.1->gensim==3.4.0) (3.0.4)\n",
            "Requirement already satisfied: urllib3<1.25,>=1.21.1 in /usr/local/lib/python3.6/dist-packages (from requests->smart-open>=1.2.1->gensim==3.4.0) (1.24.3)\n",
            "Requirement already satisfied: python-dateutil<3.0.0,>=2.1 in /usr/local/lib/python3.6/dist-packages (from botocore<1.16.0,>=1.15.43->boto3->smart-open>=1.2.1->gensim==3.4.0) (2.8.1)\n",
            "Requirement already satisfied: docutils<0.16,>=0.10 in /usr/local/lib/python3.6/dist-packages (from botocore<1.16.0,>=1.15.43->boto3->smart-open>=1.2.1->gensim==3.4.0) (0.15.2)\n",
            "Installing collected packages: gensim\n",
            "  Found existing installation: gensim 3.6.0\n",
            "    Uninstalling gensim-3.6.0:\n",
            "      Successfully uninstalled gensim-3.6.0\n",
            "Successfully installed gensim-3.4.0\n"
          ],
          "name": "stdout"
        }
      ]
    },
    {
      "cell_type": "code",
      "metadata": {
        "id": "fTlezYTgEM15",
        "colab_type": "code",
        "colab": {}
      },
      "source": [
        "import math\n",
        "import datetime as dt"
      ],
      "execution_count": 0,
      "outputs": []
    },
    {
      "cell_type": "code",
      "metadata": {
        "id": "hLhGql92_dUa",
        "colab_type": "code",
        "outputId": "317afbf2-d362-4edd-f9a7-c547ae62385a",
        "colab": {
          "base_uri": "https://localhost:8080/",
          "height": 52
        }
      },
      "source": [
        "!pip install geopy\n",
        "from geopy.distance import geodesic"
      ],
      "execution_count": 3,
      "outputs": [
        {
          "output_type": "stream",
          "text": [
            "Requirement already satisfied: geopy in /usr/local/lib/python3.6/dist-packages (1.17.0)\n",
            "Requirement already satisfied: geographiclib<2,>=1.49 in /usr/local/lib/python3.6/dist-packages (from geopy) (1.50)\n"
          ],
          "name": "stdout"
        }
      ]
    },
    {
      "cell_type": "code",
      "metadata": {
        "id": "uq1fZ4Ba-U8U",
        "colab_type": "code",
        "colab": {}
      },
      "source": [
        "from xgboost import XGBClassifier"
      ],
      "execution_count": 0,
      "outputs": []
    },
    {
      "cell_type": "code",
      "metadata": {
        "id": "-KoGMGrmXF85",
        "colab_type": "code",
        "outputId": "cc1c5654-4c6c-42d0-d63d-bc86eefa1afb",
        "colab": {
          "base_uri": "https://localhost:8080/",
          "height": 124
        }
      },
      "source": [
        "!pip install vaderSentiment\n",
        "from vaderSentiment.vaderSentiment import SentimentIntensityAnalyzer \n",
        "sid_obj = SentimentIntensityAnalyzer() "
      ],
      "execution_count": 5,
      "outputs": [
        {
          "output_type": "stream",
          "text": [
            "Collecting vaderSentiment\n",
            "\u001b[?25l  Downloading https://files.pythonhosted.org/packages/44/a3/1218a3b5651dbcba1699101c84e5c84c36cbba360d9dbf29f2ff18482982/vaderSentiment-3.3.1-py2.py3-none-any.whl (125kB)\n",
            "\r\u001b[K     |██▋                             | 10kB 19.7MB/s eta 0:00:01\r\u001b[K     |█████▏                          | 20kB 2.1MB/s eta 0:00:01\r\u001b[K     |███████▉                        | 30kB 2.8MB/s eta 0:00:01\r\u001b[K     |██████████▍                     | 40kB 2.1MB/s eta 0:00:01\r\u001b[K     |█████████████                   | 51kB 2.3MB/s eta 0:00:01\r\u001b[K     |███████████████▋                | 61kB 2.7MB/s eta 0:00:01\r\u001b[K     |██████████████████▎             | 71kB 2.9MB/s eta 0:00:01\r\u001b[K     |████████████████████▉           | 81kB 3.1MB/s eta 0:00:01\r\u001b[K     |███████████████████████▍        | 92kB 3.5MB/s eta 0:00:01\r\u001b[K     |██████████████████████████      | 102kB 3.4MB/s eta 0:00:01\r\u001b[K     |████████████████████████████▋   | 112kB 3.4MB/s eta 0:00:01\r\u001b[K     |███████████████████████████████▎| 122kB 3.4MB/s eta 0:00:01\r\u001b[K     |████████████████████████████████| 133kB 3.4MB/s \n",
            "\u001b[?25hInstalling collected packages: vaderSentiment\n",
            "Successfully installed vaderSentiment-3.3.1\n"
          ],
          "name": "stdout"
        }
      ]
    },
    {
      "cell_type": "code",
      "metadata": {
        "id": "9P75aht9IxN1",
        "colab_type": "code",
        "outputId": "c9cc1e6c-b3d3-4b35-e850-2ab72ae6c496",
        "colab": {
          "base_uri": "https://localhost:8080/",
          "height": 211
        }
      },
      "source": [
        "!pip install imblearn\n",
        "from imblearn.under_sampling import RandomUnderSampler"
      ],
      "execution_count": 6,
      "outputs": [
        {
          "output_type": "stream",
          "text": [
            "Requirement already satisfied: imblearn in /usr/local/lib/python3.6/dist-packages (0.0)\n",
            "Requirement already satisfied: imbalanced-learn in /usr/local/lib/python3.6/dist-packages (from imblearn) (0.4.3)\n",
            "Requirement already satisfied: scikit-learn>=0.20 in /usr/local/lib/python3.6/dist-packages (from imbalanced-learn->imblearn) (0.22.2.post1)\n",
            "Requirement already satisfied: scipy>=0.13.3 in /usr/local/lib/python3.6/dist-packages (from imbalanced-learn->imblearn) (1.4.1)\n",
            "Requirement already satisfied: numpy>=1.8.2 in /usr/local/lib/python3.6/dist-packages (from imbalanced-learn->imblearn) (1.18.3)\n",
            "Requirement already satisfied: joblib>=0.11 in /usr/local/lib/python3.6/dist-packages (from scikit-learn>=0.20->imbalanced-learn->imblearn) (0.14.1)\n"
          ],
          "name": "stdout"
        },
        {
          "output_type": "stream",
          "text": [
            "/usr/local/lib/python3.6/dist-packages/sklearn/externals/six.py:31: FutureWarning: The module is deprecated in version 0.21 and will be removed in version 0.23 since we've dropped support for Python 2.7. Please rely on the official version of six (https://pypi.org/project/six/).\n",
            "  \"(https://pypi.org/project/six/).\", FutureWarning)\n",
            "/usr/local/lib/python3.6/dist-packages/sklearn/utils/deprecation.py:144: FutureWarning: The sklearn.neighbors.base module is  deprecated in version 0.22 and will be removed in version 0.24. The corresponding classes / functions should instead be imported from sklearn.neighbors. Anything that cannot be imported from sklearn.neighbors is now part of the private API.\n",
            "  warnings.warn(message, FutureWarning)\n"
          ],
          "name": "stderr"
        }
      ]
    },
    {
      "cell_type": "code",
      "metadata": {
        "id": "nqY55Bxy6zEy",
        "colab_type": "code",
        "outputId": "b7a45913-aa7d-427b-a6d2-9960dfcb1e4b",
        "colab": {
          "base_uri": "https://localhost:8080/",
          "height": 540
        }
      },
      "source": [
        "!sudo apt-get install python3-dev default-libmysqlclient-dev"
      ],
      "execution_count": 7,
      "outputs": [
        {
          "output_type": "stream",
          "text": [
            "Reading package lists... Done\n",
            "Building dependency tree       \n",
            "Reading state information... Done\n",
            "python3-dev is already the newest version (3.6.7-1~18.04).\n",
            "The following NEW packages will be installed:\n",
            "  default-libmysqlclient-dev libmysqlclient-dev\n",
            "0 upgraded, 2 newly installed, 0 to remove and 25 not upgraded.\n",
            "Need to get 996 kB of archives.\n",
            "After this operation, 6,022 kB of additional disk space will be used.\n",
            "Get:1 http://archive.ubuntu.com/ubuntu bionic-updates/main amd64 libmysqlclient-dev amd64 5.7.29-0ubuntu0.18.04.1 [992 kB]\n",
            "Get:2 http://archive.ubuntu.com/ubuntu bionic/main amd64 default-libmysqlclient-dev amd64 1.0.4 [3,736 B]\n",
            "Fetched 996 kB in 1s (1,058 kB/s)\n",
            "debconf: unable to initialize frontend: Dialog\n",
            "debconf: (No usable dialog-like program is installed, so the dialog based frontend cannot be used. at /usr/share/perl5/Debconf/FrontEnd/Dialog.pm line 76, <> line 2.)\n",
            "debconf: falling back to frontend: Readline\n",
            "debconf: unable to initialize frontend: Readline\n",
            "debconf: (This frontend requires a controlling tty.)\n",
            "debconf: falling back to frontend: Teletype\n",
            "dpkg-preconfigure: unable to re-open stdin: \n",
            "Selecting previously unselected package libmysqlclient-dev.\n",
            "(Reading database ... 144568 files and directories currently installed.)\n",
            "Preparing to unpack .../libmysqlclient-dev_5.7.29-0ubuntu0.18.04.1_amd64.deb ...\n",
            "Unpacking libmysqlclient-dev (5.7.29-0ubuntu0.18.04.1) ...\n",
            "Selecting previously unselected package default-libmysqlclient-dev:amd64.\n",
            "Preparing to unpack .../default-libmysqlclient-dev_1.0.4_amd64.deb ...\n",
            "Unpacking default-libmysqlclient-dev:amd64 (1.0.4) ...\n",
            "Setting up libmysqlclient-dev (5.7.29-0ubuntu0.18.04.1) ...\n",
            "Setting up default-libmysqlclient-dev:amd64 (1.0.4) ...\n",
            "Processing triggers for man-db (2.8.3-2ubuntu0.1) ...\n"
          ],
          "name": "stdout"
        }
      ]
    },
    {
      "cell_type": "code",
      "metadata": {
        "id": "sBFl5CUz61gb",
        "colab_type": "code",
        "outputId": "ce5b44fb-64ac-4bd9-f8f4-d946a541423b",
        "colab": {
          "base_uri": "https://localhost:8080/",
          "height": 280
        }
      },
      "source": [
        "pip install PyDrive"
      ],
      "execution_count": 8,
      "outputs": [
        {
          "output_type": "stream",
          "text": [
            "Requirement already satisfied: PyDrive in /usr/local/lib/python3.6/dist-packages (1.3.1)\n",
            "Requirement already satisfied: PyYAML>=3.0 in /usr/local/lib/python3.6/dist-packages (from PyDrive) (3.13)\n",
            "Requirement already satisfied: oauth2client>=4.0.0 in /usr/local/lib/python3.6/dist-packages (from PyDrive) (4.1.3)\n",
            "Requirement already satisfied: google-api-python-client>=1.2 in /usr/local/lib/python3.6/dist-packages (from PyDrive) (1.7.12)\n",
            "Requirement already satisfied: six>=1.6.1 in /usr/local/lib/python3.6/dist-packages (from oauth2client>=4.0.0->PyDrive) (1.12.0)\n",
            "Requirement already satisfied: rsa>=3.1.4 in /usr/local/lib/python3.6/dist-packages (from oauth2client>=4.0.0->PyDrive) (4.0)\n",
            "Requirement already satisfied: httplib2>=0.9.1 in /usr/local/lib/python3.6/dist-packages (from oauth2client>=4.0.0->PyDrive) (0.17.3)\n",
            "Requirement already satisfied: pyasn1-modules>=0.0.5 in /usr/local/lib/python3.6/dist-packages (from oauth2client>=4.0.0->PyDrive) (0.2.8)\n",
            "Requirement already satisfied: pyasn1>=0.1.7 in /usr/local/lib/python3.6/dist-packages (from oauth2client>=4.0.0->PyDrive) (0.4.8)\n",
            "Requirement already satisfied: google-auth-httplib2>=0.0.3 in /usr/local/lib/python3.6/dist-packages (from google-api-python-client>=1.2->PyDrive) (0.0.3)\n",
            "Requirement already satisfied: uritemplate<4dev,>=3.0.0 in /usr/local/lib/python3.6/dist-packages (from google-api-python-client>=1.2->PyDrive) (3.0.1)\n",
            "Requirement already satisfied: google-auth>=1.4.1 in /usr/local/lib/python3.6/dist-packages (from google-api-python-client>=1.2->PyDrive) (1.7.2)\n",
            "Requirement already satisfied: cachetools<3.2,>=2.0.0 in /usr/local/lib/python3.6/dist-packages (from google-auth>=1.4.1->google-api-python-client>=1.2->PyDrive) (3.1.1)\n",
            "Requirement already satisfied: setuptools>=40.3.0 in /usr/local/lib/python3.6/dist-packages (from google-auth>=1.4.1->google-api-python-client>=1.2->PyDrive) (46.1.3)\n"
          ],
          "name": "stdout"
        }
      ]
    },
    {
      "cell_type": "code",
      "metadata": {
        "id": "v5M6-YPk63oH",
        "colab_type": "code",
        "outputId": "14b23d40-b716-40d9-fe18-11f69ab7d904",
        "colab": {
          "base_uri": "https://localhost:8080/",
          "height": 1000
        }
      },
      "source": [
        "\n",
        "!pip install --upgrade setuptools\n",
        "!pip install wheel\n",
        "!pip install pattern\n",
        "!pip install mysqlclient"
      ],
      "execution_count": 9,
      "outputs": [
        {
          "output_type": "stream",
          "text": [
            "Requirement already up-to-date: setuptools in /usr/local/lib/python3.6/dist-packages (46.1.3)\n",
            "Requirement already satisfied: wheel in /usr/local/lib/python3.6/dist-packages (0.34.2)\n",
            "Collecting pattern\n",
            "\u001b[?25l  Downloading https://files.pythonhosted.org/packages/1e/07/b0e61b6c818ed4b6145fe01d1c341223aa6cfbc3928538ad1f2b890924a3/Pattern-3.6.0.tar.gz (22.2MB)\n",
            "\u001b[K     |████████████████████████████████| 22.3MB 1.2MB/s \n",
            "\u001b[?25hRequirement already satisfied: future in /usr/local/lib/python3.6/dist-packages (from pattern) (0.16.0)\n",
            "Collecting backports.csv\n",
            "  Downloading https://files.pythonhosted.org/packages/8e/26/a6bd68f13e0f38fbb643d6e497fc3462be83a0b6c4d43425c78bb51a7291/backports.csv-1.0.7-py2.py3-none-any.whl\n",
            "Collecting mysqlclient\n",
            "\u001b[?25l  Downloading https://files.pythonhosted.org/packages/d0/97/7326248ac8d5049968bf4ec708a5d3d4806e412a42e74160d7f266a3e03a/mysqlclient-1.4.6.tar.gz (85kB)\n",
            "\u001b[K     |████████████████████████████████| 92kB 12.8MB/s \n",
            "\u001b[?25hRequirement already satisfied: beautifulsoup4 in /usr/local/lib/python3.6/dist-packages (from pattern) (4.6.3)\n",
            "Requirement already satisfied: lxml in /usr/local/lib/python3.6/dist-packages (from pattern) (4.2.6)\n",
            "Collecting feedparser\n",
            "\u001b[?25l  Downloading https://files.pythonhosted.org/packages/91/d8/7d37fec71ff7c9dbcdd80d2b48bcdd86d6af502156fc93846fb0102cb2c4/feedparser-5.2.1.tar.bz2 (192kB)\n",
            "\u001b[K     |████████████████████████████████| 194kB 61.5MB/s \n",
            "\u001b[?25hCollecting pdfminer.six\n",
            "\u001b[?25l  Downloading https://files.pythonhosted.org/packages/0b/04/f62d5834c2bdf90afcaeb23bb5241033c44e27000de64ad8472253daa4a8/pdfminer.six-20200402-py3-none-any.whl (5.6MB)\n",
            "\u001b[K     |████████████████████████████████| 5.6MB 44.6MB/s \n",
            "\u001b[?25hRequirement already satisfied: numpy in /usr/local/lib/python3.6/dist-packages (from pattern) (1.18.3)\n",
            "Requirement already satisfied: scipy in /usr/local/lib/python3.6/dist-packages (from pattern) (1.4.1)\n",
            "Requirement already satisfied: nltk in /usr/local/lib/python3.6/dist-packages (from pattern) (3.2.5)\n",
            "Collecting python-docx\n",
            "\u001b[?25l  Downloading https://files.pythonhosted.org/packages/e4/83/c66a1934ed5ed8ab1dbb9931f1779079f8bca0f6bbc5793c06c4b5e7d671/python-docx-0.8.10.tar.gz (5.5MB)\n",
            "\u001b[K     |████████████████████████████████| 5.5MB 12.1MB/s \n",
            "\u001b[?25hCollecting cherrypy\n",
            "\u001b[?25l  Downloading https://files.pythonhosted.org/packages/a8/f9/e11f893dcabe6bc222a1442bf5e14f0322a2d363c92910ed41947078a35a/CherryPy-18.6.0-py2.py3-none-any.whl (419kB)\n",
            "\u001b[K     |████████████████████████████████| 419kB 60.1MB/s \n",
            "\u001b[?25hRequirement already satisfied: requests in /usr/local/lib/python3.6/dist-packages (from pattern) (2.21.0)\n",
            "Requirement already satisfied: sortedcontainers in /usr/local/lib/python3.6/dist-packages (from pdfminer.six->pattern) (2.1.0)\n",
            "Collecting pycryptodome\n",
            "\u001b[?25l  Downloading https://files.pythonhosted.org/packages/af/16/da16a22d47bac9bf9db39f3b9af74e8eeed8855c0df96be20b580ef92fff/pycryptodome-3.9.7-cp36-cp36m-manylinux1_x86_64.whl (13.7MB)\n",
            "\u001b[K     |████████████████████████████████| 13.7MB 62.8MB/s \n",
            "\u001b[?25hRequirement already satisfied: chardet; python_version > \"3.0\" in /usr/local/lib/python3.6/dist-packages (from pdfminer.six->pattern) (3.0.4)\n",
            "Requirement already satisfied: six in /usr/local/lib/python3.6/dist-packages (from nltk->pattern) (1.12.0)\n",
            "Collecting zc.lockfile\n",
            "  Downloading https://files.pythonhosted.org/packages/6c/2a/268389776288f0f26c7272c70c36c96dcc0bdb88ab6216ea18e19df1fadd/zc.lockfile-2.0-py2.py3-none-any.whl\n",
            "Collecting cheroot>=8.2.1\n",
            "\u001b[?25l  Downloading https://files.pythonhosted.org/packages/20/b0/4e156a205a624bc929673dfa6bcebe4aa6fa00b080dca4dc7b6b50850277/cheroot-8.3.0-py2.py3-none-any.whl (86kB)\n",
            "\u001b[K     |████████████████████████████████| 92kB 13.4MB/s \n",
            "\u001b[?25hCollecting portend>=2.1.1\n",
            "  Downloading https://files.pythonhosted.org/packages/d7/79/eee70a512bffe5ceb5008f8e3326581948f50ca393c3bcb4d557e4818bd1/portend-2.6-py2.py3-none-any.whl\n",
            "Collecting jaraco.collections\n",
            "  Downloading https://files.pythonhosted.org/packages/fe/06/a89652069f0a13a33701714c0c8e0cc8656bf6d21b7c6b85fde86cf06ff6/jaraco.collections-3.0.0-py2.py3-none-any.whl\n",
            "Requirement already satisfied: more-itertools in /usr/local/lib/python3.6/dist-packages (from cherrypy->pattern) (8.2.0)\n",
            "Requirement already satisfied: idna<2.9,>=2.5 in /usr/local/lib/python3.6/dist-packages (from requests->pattern) (2.8)\n",
            "Requirement already satisfied: certifi>=2017.4.17 in /usr/local/lib/python3.6/dist-packages (from requests->pattern) (2020.4.5.1)\n",
            "Requirement already satisfied: urllib3<1.25,>=1.21.1 in /usr/local/lib/python3.6/dist-packages (from requests->pattern) (1.24.3)\n",
            "Requirement already satisfied: setuptools in /usr/local/lib/python3.6/dist-packages (from zc.lockfile->cherrypy->pattern) (46.1.3)\n",
            "Collecting jaraco.functools\n",
            "  Downloading https://files.pythonhosted.org/packages/4f/2b/bbab94f3e461adaf3c7a3a25da0c67c91d8cf7a4ddae7096028601ff940f/jaraco.functools-3.0.1-py3-none-any.whl\n",
            "Collecting tempora>=1.8\n",
            "  Downloading https://files.pythonhosted.org/packages/df/da/b30f8af8b4aa63fed8d4979daf209494823a666235111e292c89256e91fb/tempora-3.0.0-py2.py3-none-any.whl\n",
            "Collecting jaraco.classes\n",
            "  Downloading https://files.pythonhosted.org/packages/68/ce/8f43aa0d0f18120e687ae0192fe3168630040841a3e87bed93c5fe024dbe/jaraco.classes-3.1.0-py2.py3-none-any.whl\n",
            "Collecting jaraco.text\n",
            "  Downloading https://files.pythonhosted.org/packages/50/cd/6eda44738065e844bed8fae60a229b6c46f42d0ba8d48205e9fb57e254cd/jaraco.text-3.2.0-py2.py3-none-any.whl\n",
            "Requirement already satisfied: pytz in /usr/local/lib/python3.6/dist-packages (from tempora>=1.8->portend>=2.1.1->cherrypy->pattern) (2018.9)\n",
            "Collecting importlib-resources; python_version < \"3.7\"\n",
            "  Downloading https://files.pythonhosted.org/packages/8f/36/e678bc02cad98e566fbd7e6711ab2f389fc9adfb1edbb9f553eae41f9f97/importlib_resources-1.4.0-py2.py3-none-any.whl\n",
            "Requirement already satisfied: importlib-metadata; python_version < \"3.8\" in /usr/local/lib/python3.6/dist-packages (from importlib-resources; python_version < \"3.7\"->jaraco.text->jaraco.collections->cherrypy->pattern) (1.6.0)\n",
            "Requirement already satisfied: zipp>=0.4; python_version < \"3.8\" in /usr/local/lib/python3.6/dist-packages (from importlib-resources; python_version < \"3.7\"->jaraco.text->jaraco.collections->cherrypy->pattern) (3.1.0)\n",
            "Building wheels for collected packages: pattern, mysqlclient, feedparser, python-docx\n",
            "  Building wheel for pattern (setup.py) ... \u001b[?25l\u001b[?25hdone\n",
            "  Created wheel for pattern: filename=Pattern-3.6-cp36-none-any.whl size=22332723 sha256=52121214c2a28b76f71000b2a723fd11bc1949ffc7189f5522a8e794fdf25845\n",
            "  Stored in directory: /root/.cache/pip/wheels/dc/9a/0e/5fb1a603ed4e3aa8722a88e9cf4a82da7d1b63e3d2cc34bee5\n",
            "  Building wheel for mysqlclient (setup.py) ... \u001b[?25l\u001b[?25hdone\n",
            "  Created wheel for mysqlclient: filename=mysqlclient-1.4.6-cp36-cp36m-linux_x86_64.whl size=98432 sha256=151a5cdb3ff44d91a40d2829ad7ae85f8c9c76f93f1b8119ece4cb4b260dc31b\n",
            "  Stored in directory: /root/.cache/pip/wheels/37/3d/24/5327fa50817a65ed0ee4dc8809e5c39962b0dd5e078ebf4dc1\n",
            "  Building wheel for feedparser (setup.py) ... \u001b[?25l\u001b[?25hdone\n",
            "  Created wheel for feedparser: filename=feedparser-5.2.1-cp36-none-any.whl size=44940 sha256=17dcca8d3bcc6751f0dc466c898d81d9bf9808f6563ba5fbc46ed645d35fb3d5\n",
            "  Stored in directory: /root/.cache/pip/wheels/8c/69/b7/f52763c41c5471df57703a0ef718a32a5e81ee35dcf6d4f97f\n",
            "  Building wheel for python-docx (setup.py) ... \u001b[?25l\u001b[?25hdone\n",
            "  Created wheel for python-docx: filename=python_docx-0.8.10-cp36-none-any.whl size=184491 sha256=4907edf955420343c45e1713eac8f5d81a3e942a0c6c700d6eb1df083000caec\n",
            "  Stored in directory: /root/.cache/pip/wheels/18/0b/a0/1dd62ff812c857c9e487f27d80d53d2b40531bec1acecfa47b\n",
            "Successfully built pattern mysqlclient feedparser python-docx\n",
            "Installing collected packages: backports.csv, mysqlclient, feedparser, pycryptodome, pdfminer.six, python-docx, zc.lockfile, jaraco.functools, cheroot, tempora, portend, jaraco.classes, importlib-resources, jaraco.text, jaraco.collections, cherrypy, pattern\n",
            "Successfully installed backports.csv-1.0.7 cheroot-8.3.0 cherrypy-18.6.0 feedparser-5.2.1 importlib-resources-1.4.0 jaraco.classes-3.1.0 jaraco.collections-3.0.0 jaraco.functools-3.0.1 jaraco.text-3.2.0 mysqlclient-1.4.6 pattern-3.6 pdfminer.six-20200402 portend-2.6 pycryptodome-3.9.7 python-docx-0.8.10 tempora-3.0.0 zc.lockfile-2.0\n",
            "Requirement already satisfied: mysqlclient in /usr/local/lib/python3.6/dist-packages (1.4.6)\n"
          ],
          "name": "stdout"
        }
      ]
    },
    {
      "cell_type": "code",
      "metadata": {
        "id": "msbnB5ey675Y",
        "colab_type": "code",
        "outputId": "4723f4ef-483f-4af7-ede9-caa478d5ca46",
        "colab": {
          "base_uri": "https://localhost:8080/",
          "height": 245
        }
      },
      "source": [
        "!pip install pandarallel\n",
        "from pandarallel import pandarallel\n",
        "pandarallel.initialize()"
      ],
      "execution_count": 10,
      "outputs": [
        {
          "output_type": "stream",
          "text": [
            "Collecting pandarallel\n",
            "  Downloading https://files.pythonhosted.org/packages/99/06/bd582106766c483d6da51c05b0cdd7cb61894bb843c7ecc4789032232327/pandarallel-1.4.8.tar.gz\n",
            "Requirement already satisfied: dill in /usr/local/lib/python3.6/dist-packages (from pandarallel) (0.3.1.1)\n",
            "Building wheels for collected packages: pandarallel\n",
            "  Building wheel for pandarallel (setup.py) ... \u001b[?25l\u001b[?25hdone\n",
            "  Created wheel for pandarallel: filename=pandarallel-1.4.8-cp36-none-any.whl size=16112 sha256=a72e5a167b2ead5901970d709eb914e2118a25276c915e64c9997bc3b4895a65\n",
            "  Stored in directory: /root/.cache/pip/wheels/75/a2/85/b45be2e86d86e9ec5da6d05c4b994d18c81abe76e3f39415aa\n",
            "Successfully built pandarallel\n",
            "Installing collected packages: pandarallel\n",
            "Successfully installed pandarallel-1.4.8\n",
            "INFO: Pandarallel will run on 40 workers.\n",
            "INFO: Pandarallel will use Memory file system to transfer data between the main process and workers.\n"
          ],
          "name": "stdout"
        }
      ]
    },
    {
      "cell_type": "code",
      "metadata": {
        "id": "alPyjgGG7Ebd",
        "colab_type": "code",
        "outputId": "577c5a34-8b69-42a0-8da9-849bf643bbe4",
        "colab": {
          "base_uri": "https://localhost:8080/",
          "height": 87
        }
      },
      "source": [
        "import numpy as np\n",
        "import re\n",
        "import pandas as pd\n",
        "import gensim\n",
        "import nltk\n",
        "nltk.download('stopwords')\n",
        "from nltk.corpus import stopwords\n",
        "from nltk import word_tokenize\n",
        "stop_words = set(stopwords.words('english'))\n",
        "from gensim.models import LdaModel, LdaMulticore\n",
        "import gensim.downloader as api\n",
        "from gensim.utils import  lemmatize\n",
        "from gensim import corpora\n",
        "from nltk.corpus import stopwords\n",
        "import re\n",
        "import logging\n",
        "nltk.download('punkt')\n",
        "logging.basicConfig(format='%(asctime)s : %(levelname)s : %(message)s')\n",
        "logging.root.setLevel(level=logging.INFO)\n",
        "stop_words = stopwords.words('english')\n",
        "stop_words.extend(['restaurant','food','place','las','vegas','hotel'])"
      ],
      "execution_count": 11,
      "outputs": [
        {
          "output_type": "stream",
          "text": [
            "[nltk_data] Downloading package stopwords to /root/nltk_data...\n",
            "[nltk_data]   Unzipping corpora/stopwords.zip.\n",
            "[nltk_data] Downloading package punkt to /root/nltk_data...\n",
            "[nltk_data]   Unzipping tokenizers/punkt.zip.\n"
          ],
          "name": "stdout"
        }
      ]
    },
    {
      "cell_type": "code",
      "metadata": {
        "id": "eOeCl8Ls7Gtc",
        "colab_type": "code",
        "colab": {}
      },
      "source": [
        "from gensim.models.phrases import Phrases, Phraser\n",
        "import multiprocessing\n",
        "import tqdm\n",
        "from sklearn import utils\n",
        "from sklearn.linear_model import LogisticRegression\n",
        "from sklearn.metrics import accuracy_score, f1_score,confusion_matrix,precision_recall_fscore_support,classification_report\n",
        "import ast\n",
        "from sklearn.preprocessing import  StandardScaler\n",
        "from sklearn.model_selection import train_test_split\n",
        "from sklearn.ensemble import RandomForestClassifier\n",
        "from sklearn.naive_bayes import GaussianNB\n",
        "from sklearn.metrics import precision_recall_fscore_support\n",
        "from sklearn.svm import SVC\n",
        "from sklearn.model_selection import GridSearchCV\n",
        "from sklearn.metrics import recall_score\n",
        "from sklearn.metrics import roc_curve\n",
        "from sklearn.metrics import precision_score"
      ],
      "execution_count": 0,
      "outputs": []
    },
    {
      "cell_type": "code",
      "metadata": {
        "id": "awhcCtetRj_v",
        "colab_type": "code",
        "colab": {}
      },
      "source": [
        "from sklearn.metrics import fbeta_score, make_scorer\n",
        "recall_0 = make_scorer(recall_score,pos_label=0,average='binary')\n",
        "precision_0 = make_scorer(precision_score,pos_label=0,average='binary')"
      ],
      "execution_count": 0,
      "outputs": []
    },
    {
      "cell_type": "code",
      "metadata": {
        "id": "FLaSk-f17MG_",
        "colab_type": "code",
        "colab": {}
      },
      "source": [
        "from pydrive.auth import GoogleAuth\n",
        "from pydrive.drive import GoogleDrive\n",
        "from google.colab import auth\n",
        "from oauth2client.client import GoogleCredentials\n",
        "from google.colab import drive"
      ],
      "execution_count": 0,
      "outputs": []
    },
    {
      "cell_type": "code",
      "metadata": {
        "id": "KbkhzPii7Tv2",
        "colab_type": "code",
        "outputId": "03f91697-1729-47d3-97f8-401c510057b2",
        "colab": {
          "base_uri": "https://localhost:8080/",
          "height": 124
        }
      },
      "source": [
        "drive.mount('/content/drive')"
      ],
      "execution_count": 15,
      "outputs": [
        {
          "output_type": "stream",
          "text": [
            "Go to this URL in a browser: https://accounts.google.com/o/oauth2/auth?client_id=947318989803-6bn6qk8qdgf4n4g3pfee6491hc0brc4i.apps.googleusercontent.com&redirect_uri=urn%3aietf%3awg%3aoauth%3a2.0%3aoob&response_type=code&scope=email%20https%3a%2f%2fwww.googleapis.com%2fauth%2fdocs.test%20https%3a%2f%2fwww.googleapis.com%2fauth%2fdrive%20https%3a%2f%2fwww.googleapis.com%2fauth%2fdrive.photos.readonly%20https%3a%2f%2fwww.googleapis.com%2fauth%2fpeopleapi.readonly\n",
            "\n",
            "Enter your authorization code:\n",
            "··········\n",
            "Mounted at /content/drive\n"
          ],
          "name": "stdout"
        }
      ]
    },
    {
      "cell_type": "code",
      "metadata": {
        "id": "jBFtPYbJAWRB",
        "colab_type": "code",
        "colab": {}
      },
      "source": [
        "business_df = pd.read_json('/content/drive/Shared drives/DPA Final Project/business.json',lines=True)"
      ],
      "execution_count": 0,
      "outputs": []
    },
    {
      "cell_type": "code",
      "metadata": {
        "id": "euOWmvgCAtO1",
        "colab_type": "code",
        "outputId": "5166c440-3bf8-415a-fba9-d13977e2da02",
        "colab": {
          "base_uri": "https://localhost:8080/",
          "height": 87
        }
      },
      "source": [
        "business_df.columns"
      ],
      "execution_count": 17,
      "outputs": [
        {
          "output_type": "execute_result",
          "data": {
            "text/plain": [
              "Index(['business_id', 'name', 'address', 'city', 'state', 'postal_code',\n",
              "       'latitude', 'longitude', 'stars', 'review_count', 'is_open',\n",
              "       'attributes', 'categories', 'hours'],\n",
              "      dtype='object')"
            ]
          },
          "metadata": {
            "tags": []
          },
          "execution_count": 17
        }
      ]
    },
    {
      "cell_type": "code",
      "metadata": {
        "id": "o0GwUR-bAv4N",
        "colab_type": "code",
        "colab": {}
      },
      "source": [
        "business_df = business_df.drop(columns=[ 'name', 'address', 'city', 'state', 'postal_code', 'stars', 'review_count', 'is_open',\n",
        "       'attributes', 'categories', 'hours'])"
      ],
      "execution_count": 0,
      "outputs": []
    },
    {
      "cell_type": "code",
      "metadata": {
        "id": "9rxFa_cZ7YQ6",
        "colab_type": "code",
        "colab": {}
      },
      "source": [
        "review_Dataset = pd.read_csv('/content/drive/Shared drives/DPA Final Project/review_dataset_features.csv')"
      ],
      "execution_count": 0,
      "outputs": []
    },
    {
      "cell_type": "code",
      "metadata": {
        "id": "4dLeG8z2-xnE",
        "colab_type": "code",
        "colab": {}
      },
      "source": [
        "review_Dataset =review_Dataset.drop(columns= 'Unnamed: 0')"
      ],
      "execution_count": 0,
      "outputs": []
    },
    {
      "cell_type": "code",
      "metadata": {
        "id": "s6mMx0aafG61",
        "colab_type": "code",
        "colab": {}
      },
      "source": [
        "review_Dataset.date = pd.to_datetime(review_Dataset.date)"
      ],
      "execution_count": 0,
      "outputs": []
    },
    {
      "cell_type": "code",
      "metadata": {
        "id": "OroWql1GdglU",
        "colab_type": "code",
        "colab": {}
      },
      "source": [
        "review_Dataset = review_Dataset[~review_Dataset.text.isna()]"
      ],
      "execution_count": 0,
      "outputs": []
    },
    {
      "cell_type": "code",
      "metadata": {
        "id": "xonv-jdI74fz",
        "colab_type": "code",
        "colab": {}
      },
      "source": [
        "Dataset = pd.read_csv('/content/drive/Shared drives/DPA Final Project/y_file.csv')"
      ],
      "execution_count": 0,
      "outputs": []
    },
    {
      "cell_type": "code",
      "metadata": {
        "id": "Xo-Y1Mzt-gXL",
        "colab_type": "code",
        "colab": {}
      },
      "source": [
        "Dataset =Dataset.drop(columns= 'index')"
      ],
      "execution_count": 0,
      "outputs": []
    },
    {
      "cell_type": "code",
      "metadata": {
        "id": "2K6UQKZYA82N",
        "colab_type": "code",
        "colab": {}
      },
      "source": [
        "Dataset= pd.merge(Dataset,business_df,how='inner',on='business_id')"
      ],
      "execution_count": 0,
      "outputs": []
    },
    {
      "cell_type": "code",
      "metadata": {
        "id": "g13RxU-AeKft",
        "colab_type": "code",
        "colab": {}
      },
      "source": [
        "Dataset =Dataset.rename(columns= {'mean':'average_demerits'})"
      ],
      "execution_count": 0,
      "outputs": []
    },
    {
      "cell_type": "code",
      "metadata": {
        "id": "uwC_Fp6ODCj1",
        "colab_type": "code",
        "colab": {}
      },
      "source": [
        "y_file = pd.read_csv('/content/drive/Shared drives/DPA Final Project/y_file.csv')"
      ],
      "execution_count": 0,
      "outputs": []
    },
    {
      "cell_type": "code",
      "metadata": {
        "id": "ts_ypq76eA5x",
        "colab_type": "code",
        "colab": {}
      },
      "source": [
        "y_file = y_file.drop(columns='index')"
      ],
      "execution_count": 0,
      "outputs": []
    },
    {
      "cell_type": "code",
      "metadata": {
        "id": "WoOK3i-tehdp",
        "colab_type": "code",
        "colab": {}
      },
      "source": [
        "y_file =y_file.rename(columns= {'max':'average_demerits'})"
      ],
      "execution_count": 0,
      "outputs": []
    },
    {
      "cell_type": "code",
      "metadata": {
        "id": "cAP-EwVUNI_Y",
        "colab_type": "code",
        "colab": {}
      },
      "source": [
        "def inspection_grade(x):\n",
        "  if x <= 10:\n",
        "    return 'A'\n",
        "  elif x<=20:\n",
        "    return 'B'\n",
        "  else :\n",
        "    return 'C'    "
      ],
      "execution_count": 0,
      "outputs": []
    },
    {
      "cell_type": "code",
      "metadata": {
        "id": "egozFk1I8Mqd",
        "colab_type": "code",
        "colab": {}
      },
      "source": [
        "Dataset['inspection_grade'] = Dataset.average_demerits.apply(lambda x : inspection_grade(x))"
      ],
      "execution_count": 0,
      "outputs": []
    },
    {
      "cell_type": "code",
      "metadata": {
        "id": "u2kyvfZQZpQI",
        "colab_type": "code",
        "colab": {}
      },
      "source": [
        "cat_dataset = pd.read_csv('/content/drive/Shared drives/DPA Final Project/business_with_cat.csv')"
      ],
      "execution_count": 0,
      "outputs": []
    },
    {
      "cell_type": "code",
      "metadata": {
        "id": "XrRgFO2MaO98",
        "colab_type": "code",
        "colab": {}
      },
      "source": [
        "cat_dataset = cat_dataset.drop(columns= 'Unnamed: 0')"
      ],
      "execution_count": 0,
      "outputs": []
    },
    {
      "cell_type": "code",
      "metadata": {
        "id": "qxTivmfX4SQX",
        "colab_type": "code",
        "outputId": "ce4f5f50-9c31-4a02-8d68-ec73ea724168",
        "colab": {
          "base_uri": "https://localhost:8080/",
          "height": 35
        }
      },
      "source": [
        "cat_dataset.shape"
      ],
      "execution_count": 35,
      "outputs": [
        {
          "output_type": "execute_result",
          "data": {
            "text/plain": [
              "(8972, 33)"
            ]
          },
          "metadata": {
            "tags": []
          },
          "execution_count": 35
        }
      ]
    },
    {
      "cell_type": "code",
      "metadata": {
        "id": "W4qunL845HQF",
        "colab_type": "code",
        "outputId": "d607ee93-2885-4c45-c736-3f960a1220fe",
        "colab": {
          "base_uri": "https://localhost:8080/",
          "height": 173
        }
      },
      "source": [
        "cat_dataset.columns"
      ],
      "execution_count": 36,
      "outputs": [
        {
          "output_type": "execute_result",
          "data": {
            "text/plain": [
              "Index(['business_id', 'categories', 'clean_categories', 'is_restaurants',\n",
              "       'is_food', 'is_fast_food', 'is_grocery', 'is_convenience_store',\n",
              "       'is_adult', 'is_bakeries', 'is_buffet', 'is_sushi_bar', 'is_alcohol',\n",
              "       'is_pizza', 'is_coffee_and_tea', 'is_ice_cream_deserts',\n",
              "       'is_sandwiches', 'is_burgers', 'is_vietnamese', 'is_japanese',\n",
              "       'is_thai', 'is_italian', 'is_korean', 'is_american', 'is_chinese',\n",
              "       'is_mexican', 'address_x', 'facility_id', 'location_name', 'name',\n",
              "       'restaurant_name', 'address', 'is_valid'],\n",
              "      dtype='object')"
            ]
          },
          "metadata": {
            "tags": []
          },
          "execution_count": 36
        }
      ]
    },
    {
      "cell_type": "code",
      "metadata": {
        "id": "sW-0tVKU4aVy",
        "colab_type": "code",
        "colab": {}
      },
      "source": [
        "cat_dataset=cat_dataset.drop(columns=['address_x', 'facility_id', 'location_name', 'name',\n",
        "       'restaurant_name', 'address', 'is_valid'])"
      ],
      "execution_count": 0,
      "outputs": []
    },
    {
      "cell_type": "code",
      "metadata": {
        "id": "FZnBL5KV48dU",
        "colab_type": "code",
        "colab": {}
      },
      "source": [
        "cat_dataset= cat_dataset.drop_duplicates()"
      ],
      "execution_count": 0,
      "outputs": []
    },
    {
      "cell_type": "code",
      "metadata": {
        "id": "FkE-kDtU31NU",
        "colab_type": "code",
        "outputId": "e6de56c5-a030-4b28-af60-125896d14406",
        "colab": {
          "base_uri": "https://localhost:8080/",
          "height": 35
        }
      },
      "source": [
        "Dataset.shape"
      ],
      "execution_count": 39,
      "outputs": [
        {
          "output_type": "execute_result",
          "data": {
            "text/plain": [
              "(113390, 10)"
            ]
          },
          "metadata": {
            "tags": []
          },
          "execution_count": 39
        }
      ]
    },
    {
      "cell_type": "code",
      "metadata": {
        "id": "H4ueOk8zZ0Mo",
        "colab_type": "code",
        "colab": {}
      },
      "source": [
        "Dataset = pd.merge(Dataset,cat_dataset,how='inner',on='business_id')"
      ],
      "execution_count": 0,
      "outputs": []
    },
    {
      "cell_type": "code",
      "metadata": {
        "id": "tdbjpaU65W2I",
        "colab_type": "code",
        "outputId": "f8c3feb4-b721-4e07-e7f8-8e1ffcb85f16",
        "colab": {
          "base_uri": "https://localhost:8080/",
          "height": 35
        }
      },
      "source": [
        "Dataset.shape"
      ],
      "execution_count": 41,
      "outputs": [
        {
          "output_type": "execute_result",
          "data": {
            "text/plain": [
              "(113390, 35)"
            ]
          },
          "metadata": {
            "tags": []
          },
          "execution_count": 41
        }
      ]
    },
    {
      "cell_type": "code",
      "metadata": {
        "id": "mvZIcz4v8QTo",
        "colab_type": "code",
        "colab": {}
      },
      "source": [
        " Dataset['Date'] =  pd.to_datetime(Dataset.inspection_date)"
      ],
      "execution_count": 0,
      "outputs": []
    },
    {
      "cell_type": "code",
      "metadata": {
        "id": "7z983l938TA4",
        "colab_type": "code",
        "colab": {}
      },
      "source": [
        "Dataset['previous_grade']=Dataset.groupby('business_id')['inspection_grade'].apply(lambda x : x.shift(1))"
      ],
      "execution_count": 0,
      "outputs": []
    },
    {
      "cell_type": "code",
      "metadata": {
        "id": "MgtqJGtLEf0E",
        "colab_type": "code",
        "colab": {}
      },
      "source": [
        "Dataset['previous_grade2'] =Dataset.groupby('business_id')['inspection_grade'].apply(lambda x : x.shift(2))"
      ],
      "execution_count": 0,
      "outputs": []
    },
    {
      "cell_type": "code",
      "metadata": {
        "id": "CZ4Fa514FT7o",
        "colab_type": "code",
        "colab": {}
      },
      "source": [
        "Dataset['previous_grade3'] =Dataset.groupby('business_id')['inspection_grade'].apply(lambda x : x.shift(3))"
      ],
      "execution_count": 0,
      "outputs": []
    },
    {
      "cell_type": "code",
      "metadata": {
        "id": "1g8Vm0G5Em33",
        "colab_type": "code",
        "colab": {}
      },
      "source": [
        "Dataset.loc[Dataset.previous_grade2.isna(),'previous_grade2'] = 'NA'"
      ],
      "execution_count": 0,
      "outputs": []
    },
    {
      "cell_type": "code",
      "metadata": {
        "id": "Yz-5xoy78XUP",
        "colab_type": "code",
        "colab": {}
      },
      "source": [
        "Dataset.loc[Dataset.previous_grade.isna(),'previous_grade'] = 'NA'"
      ],
      "execution_count": 0,
      "outputs": []
    },
    {
      "cell_type": "code",
      "metadata": {
        "id": "2z7LGFP-FY5Y",
        "colab_type": "code",
        "colab": {}
      },
      "source": [
        "Dataset.loc[Dataset.previous_grade3.isna(),'previous_grade3'] = 'NA'"
      ],
      "execution_count": 0,
      "outputs": []
    },
    {
      "cell_type": "code",
      "metadata": {
        "id": "UTLJi7aBQYD_",
        "colab_type": "code",
        "colab": {}
      },
      "source": [
        "def get_previous_fail(grade):\n",
        "    if grade == 'A':\n",
        "      return '1'\n",
        "    if grade == 'NA':\n",
        "       return  'NA'\n",
        "    else :\n",
        "      return '0'     "
      ],
      "execution_count": 0,
      "outputs": []
    },
    {
      "cell_type": "code",
      "metadata": {
        "id": "kBGBv99GRUkb",
        "colab_type": "code",
        "colab": {}
      },
      "source": [
        "Dataset['previous_grade_pass1'] = Dataset.previous_grade.apply(lambda x : get_previous_fail(x))"
      ],
      "execution_count": 0,
      "outputs": []
    },
    {
      "cell_type": "code",
      "metadata": {
        "id": "a65pofkoRuyf",
        "colab_type": "code",
        "colab": {}
      },
      "source": [
        "Dataset['previous_grade_pass2'] = Dataset.previous_grade2.apply(lambda x : get_previous_fail(x))\n"
      ],
      "execution_count": 0,
      "outputs": []
    },
    {
      "cell_type": "code",
      "metadata": {
        "id": "Z9n0y7UbR2rb",
        "colab_type": "code",
        "colab": {}
      },
      "source": [
        "Dataset['previous_grade_pass3'] = Dataset.previous_grade3.apply(lambda x : get_previous_fail(x))"
      ],
      "execution_count": 0,
      "outputs": []
    },
    {
      "cell_type": "code",
      "metadata": {
        "id": "5gre_2j1R8Hn",
        "colab_type": "code",
        "colab": {
          "base_uri": "https://localhost:8080/",
          "height": 87
        },
        "outputId": "8f2ab5e0-1ab7-4f7a-fec8-966010abbbc5"
      },
      "source": [
        "Dataset.previous_grade_pass1.value_counts()"
      ],
      "execution_count": 186,
      "outputs": [
        {
          "output_type": "execute_result",
          "data": {
            "text/plain": [
              "1     33185\n",
              "0      9708\n",
              "NA     1251\n",
              "Name: previous_grade_pass1, dtype: int64"
            ]
          },
          "metadata": {
            "tags": []
          },
          "execution_count": 186
        }
      ]
    },
    {
      "cell_type": "code",
      "metadata": {
        "id": "eIsFZNm38aYl",
        "colab_type": "code",
        "outputId": "5e0f5462-653c-4eec-a15f-78f8a213cd90",
        "colab": {
          "base_uri": "https://localhost:8080/",
          "height": 104
        }
      },
      "source": [
        "Dataset.previous_grade.value_counts()"
      ],
      "execution_count": 49,
      "outputs": [
        {
          "output_type": "execute_result",
          "data": {
            "text/plain": [
              "A     86923\n",
              "B     16344\n",
              "NA     5540\n",
              "C      4583\n",
              "Name: previous_grade, dtype: int64"
            ]
          },
          "metadata": {
            "tags": []
          },
          "execution_count": 49
        }
      ]
    },
    {
      "cell_type": "code",
      "metadata": {
        "id": "Rdz7NIIx8cuW",
        "colab_type": "code",
        "colab": {}
      },
      "source": [
        "Dataset= Dataset[Dataset.Date.dt.year >2012].reset_index(drop=True)"
      ],
      "execution_count": 0,
      "outputs": []
    },
    {
      "cell_type": "code",
      "metadata": {
        "id": "15QUWx_5e_9i",
        "colab_type": "code",
        "outputId": "9ebe4d39-0637-412f-8de3-f3910b185177",
        "colab": {
          "base_uri": "https://localhost:8080/",
          "height": 35
        }
      },
      "source": [
        "max_Date = review_Dataset.date.max()\n",
        "max_Date"
      ],
      "execution_count": 51,
      "outputs": [
        {
          "output_type": "execute_result",
          "data": {
            "text/plain": [
              "Timestamp('2018-11-14 18:12:40')"
            ]
          },
          "metadata": {
            "tags": []
          },
          "execution_count": 51
        }
      ]
    },
    {
      "cell_type": "code",
      "metadata": {
        "id": "1WpJLBPdfROx",
        "colab_type": "code",
        "colab": {}
      },
      "source": [
        "Dataset = Dataset[Dataset.Date<max_Date]"
      ],
      "execution_count": 0,
      "outputs": []
    },
    {
      "cell_type": "code",
      "metadata": {
        "id": "inafAwd78fP0",
        "colab_type": "code",
        "colab": {}
      },
      "source": [
        "def get_rows(df,time_period,b_id,date_input):\n",
        "    temp_df = df[df.business_id == b_id]\n",
        "    date_min = date_input - \\\n",
        "       pd.offsets.DateOffset(months=time_period)\n",
        "    temp_df = temp_df[(temp_df['date'] < date_input) & (temp_df['date']>=date_min)].reset_index(drop = True)\n",
        "    return temp_df[[str(i) for i in range(100)]].mean()\n",
        "   "
      ],
      "execution_count": 0,
      "outputs": []
    },
    {
      "cell_type": "code",
      "metadata": {
        "id": "q2NgsqqWHNZb",
        "colab_type": "code",
        "colab": {}
      },
      "source": [
        "def get_ratings(df,time_period,b_id,date_input):\n",
        "    temp_df = df[df.business_id == b_id]\n",
        "    date_min = date_input - \\\n",
        "       pd.offsets.DateOffset(months=time_period)\n",
        "    temp_df = temp_df[(temp_df['date'] < date_input) & (temp_df['date']>=date_min)].reset_index(drop = True)\n",
        "    return temp_df['stars'].mean()"
      ],
      "execution_count": 0,
      "outputs": []
    },
    {
      "cell_type": "code",
      "metadata": {
        "id": "W6GAfaLHYTnC",
        "colab_type": "code",
        "colab": {}
      },
      "source": [
        "def get_sentimnet_Score(df,time_period,b_id,date_input):\n",
        "    temp_df = df[df.business_id == b_id]\n",
        "    date_min = date_input - \\\n",
        "       pd.offsets.DateOffset(months=time_period)\n",
        "    temp_df = temp_df[(temp_df['date'] < date_input) & (temp_df['date']>=date_min)].reset_index(drop = True)\n",
        "    temp_df['polarity_scores'] = temp_df.text.apply(lambda x:sid_obj.polarity_scores(x).get('compound'))\n",
        "    return temp_df['polarity_scores'].mean()"
      ],
      "execution_count": 0,
      "outputs": []
    },
    {
      "cell_type": "code",
      "metadata": {
        "id": "QOhGmkpnXdoD",
        "colab_type": "code",
        "outputId": "c462fc25-fb36-4d1d-fce6-81b82397f0f8",
        "colab": {
          "base_uri": "https://localhost:8080/",
          "height": 35
        }
      },
      "source": [
        "get_sentimnet_Score(review_Dataset,12,Dataset.business_id[0],Dataset.Date[0])"
      ],
      "execution_count": 56,
      "outputs": [
        {
          "output_type": "execute_result",
          "data": {
            "text/plain": [
              "0.72482"
            ]
          },
          "metadata": {
            "tags": []
          },
          "execution_count": 56
        }
      ]
    },
    {
      "cell_type": "code",
      "metadata": {
        "id": "PYcbWVGVDQZU",
        "colab_type": "code",
        "colab": {}
      },
      "source": [
        "def get_features(b_id,date,y_file):\n",
        "    temp_df= y_file[y_file.business_id == b_id]\n",
        "    temp_df = temp_df[temp_df.inspection_date < date]\n",
        "    if(temp_df.empty):\n",
        "      return [None,0,None,None]\n",
        "    else:\n",
        "      return [temp_df.average_demerits.mean(),temp_df.average_demerits.count(),temp_df.average_demerits.max(),temp_df.average_demerits.min()]"
      ],
      "execution_count": 0,
      "outputs": []
    },
    {
      "cell_type": "code",
      "metadata": {
        "id": "zUof-JSu_vDe",
        "colab_type": "code",
        "colab": {}
      },
      "source": [
        "Dataset[list(range(100))] = Dataset.parallel_apply(lambda x : get_rows(review_Dataset,12,x['business_id'],x['Date']),axis=1,result_type ='expand')"
      ],
      "execution_count": 0,
      "outputs": []
    },
    {
      "cell_type": "code",
      "metadata": {
        "id": "aaL_eyXsHnMe",
        "colab_type": "code",
        "colab": {}
      },
      "source": [
        "Dataset['ratings'] = Dataset.parallel_apply(lambda x : get_ratings(review_Dataset,12,x['business_id'],x['Date']),axis=1)"
      ],
      "execution_count": 0,
      "outputs": []
    },
    {
      "cell_type": "code",
      "metadata": {
        "id": "YM2nMYmaao3g",
        "colab_type": "code",
        "colab": {}
      },
      "source": [
        "Dataset['sentiment_score'] = Dataset.parallel_apply(lambda x : get_sentimnet_Score(review_Dataset,12,x['business_id'],x['Date']),axis=1)"
      ],
      "execution_count": 0,
      "outputs": []
    },
    {
      "cell_type": "code",
      "metadata": {
        "id": "otJbFAJ4Jasp",
        "colab_type": "code",
        "colab": {}
      },
      "source": [
        "Dataset= Dataset[~Dataset.ratings.isna()]"
      ],
      "execution_count": 0,
      "outputs": []
    },
    {
      "cell_type": "code",
      "metadata": {
        "id": "maVDciCbBZyu",
        "colab_type": "code",
        "colab": {}
      },
      "source": [
        "Dataset[['previous_demerits_avg','no_of_inspections','previous_demerits_max','previous_demerits_min']]=Dataset.parallel_apply(lambda x : get_features(x['business_id'],x['inspection_date'],y_file),axis =1,result_type ='expand')"
      ],
      "execution_count": 0,
      "outputs": []
    },
    {
      "cell_type": "code",
      "metadata": {
        "id": "UFHhkj0uDahr",
        "colab_type": "code",
        "colab": {}
      },
      "source": [
        "def pass_fail(x):\n",
        "  if (x=='A'):\n",
        "    return (1)\n",
        "  else:\n",
        "    return  (0)"
      ],
      "execution_count": 0,
      "outputs": []
    },
    {
      "cell_type": "code",
      "metadata": {
        "id": "pkxwlKgrD3SU",
        "colab_type": "code",
        "colab": {}
      },
      "source": [
        "Dataset['pass'] = Dataset.inspection_grade.apply(lambda x:pass_fail(x))"
      ],
      "execution_count": 0,
      "outputs": []
    },
    {
      "cell_type": "code",
      "metadata": {
        "id": "kgjrlPwOSIGJ",
        "colab_type": "code",
        "colab": {
          "base_uri": "https://localhost:8080/",
          "height": 415
        },
        "outputId": "d8b6b39a-2497-46e1-9ff8-276cbdb24d90"
      },
      "source": [
        "pd.get_dummies(Dataset.previous_grade_pass1).drop(columns ='NA')"
      ],
      "execution_count": 189,
      "outputs": [
        {
          "output_type": "execute_result",
          "data": {
            "text/html": [
              "<div>\n",
              "<style scoped>\n",
              "    .dataframe tbody tr th:only-of-type {\n",
              "        vertical-align: middle;\n",
              "    }\n",
              "\n",
              "    .dataframe tbody tr th {\n",
              "        vertical-align: top;\n",
              "    }\n",
              "\n",
              "    .dataframe thead th {\n",
              "        text-align: right;\n",
              "    }\n",
              "</style>\n",
              "<table border=\"1\" class=\"dataframe\">\n",
              "  <thead>\n",
              "    <tr style=\"text-align: right;\">\n",
              "      <th></th>\n",
              "      <th>0</th>\n",
              "      <th>1</th>\n",
              "    </tr>\n",
              "  </thead>\n",
              "  <tbody>\n",
              "    <tr>\n",
              "      <th>0</th>\n",
              "      <td>0</td>\n",
              "      <td>1</td>\n",
              "    </tr>\n",
              "    <tr>\n",
              "      <th>1</th>\n",
              "      <td>0</td>\n",
              "      <td>1</td>\n",
              "    </tr>\n",
              "    <tr>\n",
              "      <th>2</th>\n",
              "      <td>1</td>\n",
              "      <td>0</td>\n",
              "    </tr>\n",
              "    <tr>\n",
              "      <th>3</th>\n",
              "      <td>0</td>\n",
              "      <td>1</td>\n",
              "    </tr>\n",
              "    <tr>\n",
              "      <th>4</th>\n",
              "      <td>0</td>\n",
              "      <td>1</td>\n",
              "    </tr>\n",
              "    <tr>\n",
              "      <th>...</th>\n",
              "      <td>...</td>\n",
              "      <td>...</td>\n",
              "    </tr>\n",
              "    <tr>\n",
              "      <th>61966</th>\n",
              "      <td>0</td>\n",
              "      <td>1</td>\n",
              "    </tr>\n",
              "    <tr>\n",
              "      <th>61967</th>\n",
              "      <td>1</td>\n",
              "      <td>0</td>\n",
              "    </tr>\n",
              "    <tr>\n",
              "      <th>61968</th>\n",
              "      <td>0</td>\n",
              "      <td>1</td>\n",
              "    </tr>\n",
              "    <tr>\n",
              "      <th>61970</th>\n",
              "      <td>0</td>\n",
              "      <td>1</td>\n",
              "    </tr>\n",
              "    <tr>\n",
              "      <th>61971</th>\n",
              "      <td>0</td>\n",
              "      <td>1</td>\n",
              "    </tr>\n",
              "  </tbody>\n",
              "</table>\n",
              "<p>44144 rows × 2 columns</p>\n",
              "</div>"
            ],
            "text/plain": [
              "       0  1\n",
              "0      0  1\n",
              "1      0  1\n",
              "2      1  0\n",
              "3      0  1\n",
              "4      0  1\n",
              "...   .. ..\n",
              "61966  0  1\n",
              "61967  1  0\n",
              "61968  0  1\n",
              "61970  0  1\n",
              "61971  0  1\n",
              "\n",
              "[44144 rows x 2 columns]"
            ]
          },
          "metadata": {
            "tags": []
          },
          "execution_count": 189
        }
      ]
    },
    {
      "cell_type": "code",
      "metadata": {
        "id": "ZWIyhHVdF25O",
        "colab_type": "code",
        "colab": {}
      },
      "source": [
        "Dataset[['previous_fail1','previous_pass1']] = pd.get_dummies(Dataset.previous_grade_pass1).drop(columns = 'NA')"
      ],
      "execution_count": 0,
      "outputs": []
    },
    {
      "cell_type": "code",
      "metadata": {
        "id": "5PvgpDggEvtJ",
        "colab_type": "code",
        "colab": {}
      },
      "source": [
        "Dataset[['previous_fail2','previous_pass2']] = pd.get_dummies(Dataset.previous_grade_pass2).drop(columns = 'NA')"
      ],
      "execution_count": 0,
      "outputs": []
    },
    {
      "cell_type": "code",
      "metadata": {
        "id": "uqbL6pjpFguZ",
        "colab_type": "code",
        "colab": {}
      },
      "source": [
        "Dataset[['previous_fail3','previous_pass3']] = pd.get_dummies(Dataset.previous_grade_pass3).drop(columns = 'NA')"
      ],
      "execution_count": 0,
      "outputs": []
    },
    {
      "cell_type": "code",
      "metadata": {
        "id": "kwsVg_JQGvSZ",
        "colab_type": "code",
        "outputId": "964edc28-7328-459b-d877-6cb976ccf72b",
        "colab": {
          "base_uri": "https://localhost:8080/",
          "height": 225
        }
      },
      "source": [
        "Dataset.isna().sum()"
      ],
      "execution_count": 68,
      "outputs": [
        {
          "output_type": "execute_result",
          "data": {
            "text/plain": [
              "business_id         0\n",
              "inspection_date     0\n",
              "count               0\n",
              "average_demerits    0\n",
              "median              0\n",
              "                   ..\n",
              "previous_B2         0\n",
              "previous_C2         0\n",
              "previous_A3         0\n",
              "previous_B3         0\n",
              "previous_C3         0\n",
              "Length: 155, dtype: int64"
            ]
          },
          "metadata": {
            "tags": []
          },
          "execution_count": 68
        }
      ]
    },
    {
      "cell_type": "code",
      "metadata": {
        "id": "-Po-cu5xjYL1",
        "colab_type": "code",
        "outputId": "5a34c631-2fe1-4f6d-a12a-6a929dcfae81",
        "colab": {
          "base_uri": "https://localhost:8080/",
          "height": 69
        }
      },
      "source": [
        "Dataset['pass'].value_counts()"
      ],
      "execution_count": 69,
      "outputs": [
        {
          "output_type": "execute_result",
          "data": {
            "text/plain": [
              "1    34413\n",
              "0     9731\n",
              "Name: pass, dtype: int64"
            ]
          },
          "metadata": {
            "tags": []
          },
          "execution_count": 69
        }
      ]
    },
    {
      "cell_type": "code",
      "metadata": {
        "id": "w7ZjihYi_HsK",
        "colab_type": "code",
        "colab": {}
      },
      "source": [
        "weather_df = pd.read_csv('/content/drive/Shared drives/DPA Final Project/clean_weather.csv')"
      ],
      "execution_count": 0,
      "outputs": []
    },
    {
      "cell_type": "code",
      "metadata": {
        "id": "haDBPOFyDONg",
        "colab_type": "code",
        "colab": {}
      },
      "source": [
        "weather_df.DATE = pd.to_datetime(weather_df.DATE)"
      ],
      "execution_count": 0,
      "outputs": []
    },
    {
      "cell_type": "code",
      "metadata": {
        "id": "o2oBkrvV_bz1",
        "colab_type": "code",
        "colab": {}
      },
      "source": [
        "def get_avg_weather(date, days, station):\n",
        "    #date: date of the inspection\n",
        "    #days: Number of days to be considered in the past from the date\n",
        "    #station: station id\n",
        "    #add features as needed\n",
        "    features = ['TEMP', 'MAX', 'MIN', 'PRCP']\n",
        "    #get date for 30 days ago\n",
        "    start_date = date - dt.timedelta(days)\n",
        "    temp = weather_df.loc[((weather_df['STATION'] == station)\n",
        "                           & (weather_df['DATE'] >= start_date)\n",
        "                           & (weather_df['DATE'] < date)),\n",
        "                          features]\n",
        "    return(temp.mean())"
      ],
      "execution_count": 0,
      "outputs": []
    },
    {
      "cell_type": "code",
      "metadata": {
        "id": "sE6Rfj0fBpiv",
        "colab_type": "code",
        "colab": {}
      },
      "source": [
        "unique_lat_lon = weather_df[['STATION', 'LATITUDE', 'LONGITUDE']].drop_duplicates()\n",
        "unique_lat_lon.reset_index(inplace = True)"
      ],
      "execution_count": 0,
      "outputs": []
    },
    {
      "cell_type": "code",
      "metadata": {
        "id": "8w3Sr9b3Cpn1",
        "colab_type": "code",
        "colab": {}
      },
      "source": [
        "station_list = []\n",
        "for i in range(len(unique_lat_lon)):\n",
        "    temp = []\n",
        "    temp.extend([unique_lat_lon.loc[i, 'LATITUDE'], unique_lat_lon.loc[i, 'LONGITUDE']])\n",
        "    station_list.append([unique_lat_lon.loc[i, 'STATION'], tuple(temp)])"
      ],
      "execution_count": 0,
      "outputs": []
    },
    {
      "cell_type": "code",
      "metadata": {
        "id": "50gKVxVi___Q",
        "colab_type": "code",
        "colab": {}
      },
      "source": [
        "def get_station(latitude, longitude):\n",
        "    bus_pos = tuple([latitude, longitude])\n",
        "    min_dist = math.inf\n",
        "    station = 0\n",
        "    for i in range(len(station_list)):\n",
        "        dist = geodesic(bus_pos, station_list[i][1]).miles\n",
        "        if dist < min_dist:\n",
        "            min_dist = dist\n",
        "            station = station_list[i][0]\n",
        "    return(station)"
      ],
      "execution_count": 0,
      "outputs": []
    },
    {
      "cell_type": "code",
      "metadata": {
        "id": "2jAMvxgJCsoH",
        "colab_type": "code",
        "colab": {}
      },
      "source": [
        "def get_weather(date,lat,lon):\n",
        "  station_temp = get_station(lat,lon)\n",
        "  return(get_avg_weather(date,30,station_temp))"
      ],
      "execution_count": 0,
      "outputs": []
    },
    {
      "cell_type": "code",
      "metadata": {
        "id": "0x1CMYFdDe2J",
        "colab_type": "code",
        "outputId": "fd60a79b-ef18-4bd1-9197-6e305c3b400d",
        "colab": {
          "base_uri": "https://localhost:8080/",
          "height": 104
        }
      },
      "source": [
        "get_weather(Dataset.Date[0],Dataset.latitude[0],Dataset.longitude[0])"
      ],
      "execution_count": 77,
      "outputs": [
        {
          "output_type": "execute_result",
          "data": {
            "text/plain": [
              "TEMP    40.066667\n",
              "MAX     51.033333\n",
              "MIN     29.566667\n",
              "PRCP     0.000000\n",
              "dtype: float64"
            ]
          },
          "metadata": {
            "tags": []
          },
          "execution_count": 77
        }
      ]
    },
    {
      "cell_type": "code",
      "metadata": {
        "id": "oBa_gj7kEzbB",
        "colab_type": "code",
        "colab": {}
      },
      "source": [
        "Dataset[['avg_temp','max_temp','min_temp','precip']] = Dataset.parallel_apply(lambda x : get_weather(x.Date,x.latitude,x.longitude),axis=1,result_type='expand')"
      ],
      "execution_count": 0,
      "outputs": []
    },
    {
      "cell_type": "code",
      "metadata": {
        "id": "4BB1SQvRCF-m",
        "colab_type": "code",
        "colab": {}
      },
      "source": [
        "unique_business = Dataset.business_id.unique()"
      ],
      "execution_count": 0,
      "outputs": []
    },
    {
      "cell_type": "code",
      "metadata": {
        "id": "3Wwq_5BdCTC4",
        "colab_type": "code",
        "colab": {}
      },
      "source": [
        "train_business,test_business = train_test_split(unique_business,test_size = 0.2,random_state =100)"
      ],
      "execution_count": 0,
      "outputs": []
    },
    {
      "cell_type": "code",
      "metadata": {
        "id": "zBG2yw7ADLj9",
        "colab_type": "code",
        "colab": {}
      },
      "source": [
        "train= Dataset[Dataset.business_id.isin(list(train_business))]"
      ],
      "execution_count": 0,
      "outputs": []
    },
    {
      "cell_type": "code",
      "metadata": {
        "id": "BBcGRtrYEG5S",
        "colab_type": "code",
        "colab": {}
      },
      "source": [
        "test =Dataset[Dataset.business_id.isin(list(test_business))]"
      ],
      "execution_count": 0,
      "outputs": []
    },
    {
      "cell_type": "code",
      "metadata": {
        "id": "X6t9g9lBDZsJ",
        "colab_type": "code",
        "outputId": "0c656fb2-c94a-4bc4-e4f1-18b7b7f575ce",
        "colab": {
          "base_uri": "https://localhost:8080/",
          "height": 69
        }
      },
      "source": [
        "train['pass'].value_counts()"
      ],
      "execution_count": 198,
      "outputs": [
        {
          "output_type": "execute_result",
          "data": {
            "text/plain": [
              "1    27839\n",
              "0     7857\n",
              "Name: pass, dtype: int64"
            ]
          },
          "metadata": {
            "tags": []
          },
          "execution_count": 198
        }
      ]
    },
    {
      "cell_type": "code",
      "metadata": {
        "id": "c6mAZAnlD8lW",
        "colab_type": "code",
        "outputId": "7e8a77d8-bf4d-4cba-b876-cec1f20c319b",
        "colab": {
          "base_uri": "https://localhost:8080/",
          "height": 69
        }
      },
      "source": [
        "test['pass'].value_counts()"
      ],
      "execution_count": 199,
      "outputs": [
        {
          "output_type": "execute_result",
          "data": {
            "text/plain": [
              "1    6574\n",
              "0    1874\n",
              "Name: pass, dtype: int64"
            ]
          },
          "metadata": {
            "tags": []
          },
          "execution_count": 199
        }
      ]
    },
    {
      "cell_type": "code",
      "metadata": {
        "id": "z9XJbsFagAl8",
        "colab_type": "code",
        "outputId": "f8edbffa-b50c-4869-ecb8-68d6279c352d",
        "colab": {
          "base_uri": "https://localhost:8080/",
          "height": 121
        }
      },
      "source": [
        "train.loc[train['previous_demerits_avg'].isna(),['previous_demerits_avg','previous_demerits_max','previous_demerits_min']] = [train.previous_demerits_avg.median(),train.previous_demerits_max.median(),train.previous_demerits_min.median()]"
      ],
      "execution_count": 200,
      "outputs": [
        {
          "output_type": "stream",
          "text": [
            "/usr/local/lib/python3.6/dist-packages/pandas/core/indexing.py:966: SettingWithCopyWarning: \n",
            "A value is trying to be set on a copy of a slice from a DataFrame.\n",
            "Try using .loc[row_indexer,col_indexer] = value instead\n",
            "\n",
            "See the caveats in the documentation: https://pandas.pydata.org/pandas-docs/stable/user_guide/indexing.html#returning-a-view-versus-a-copy\n",
            "  self.obj[item] = s\n"
          ],
          "name": "stderr"
        }
      ]
    },
    {
      "cell_type": "code",
      "metadata": {
        "id": "oSsOMZW4ior1",
        "colab_type": "code",
        "outputId": "ef734f9b-1189-4ec0-a2f3-87dafd317eec",
        "colab": {
          "base_uri": "https://localhost:8080/",
          "height": 121
        }
      },
      "source": [
        "test.loc[test['previous_demerits_avg'].isna(),['previous_demerits_avg','previous_demerits_max','previous_demerits_min']] = [test.previous_demerits_avg.median(),test.previous_demerits_max.median(),test.previous_demerits_min.median()]"
      ],
      "execution_count": 201,
      "outputs": [
        {
          "output_type": "stream",
          "text": [
            "/usr/local/lib/python3.6/dist-packages/pandas/core/indexing.py:966: SettingWithCopyWarning: \n",
            "A value is trying to be set on a copy of a slice from a DataFrame.\n",
            "Try using .loc[row_indexer,col_indexer] = value instead\n",
            "\n",
            "See the caveats in the documentation: https://pandas.pydata.org/pandas-docs/stable/user_guide/indexing.html#returning-a-view-versus-a-copy\n",
            "  self.obj[item] = s\n"
          ],
          "name": "stderr"
        }
      ]
    },
    {
      "cell_type": "code",
      "metadata": {
        "id": "qcgn33xYjls-",
        "colab_type": "code",
        "outputId": "e445cb00-c8c6-4be0-c5b8-7dc0922b448f",
        "colab": {
          "base_uri": "https://localhost:8080/",
          "height": 69
        }
      },
      "source": [
        "test['pass'].value_counts()"
      ],
      "execution_count": 202,
      "outputs": [
        {
          "output_type": "execute_result",
          "data": {
            "text/plain": [
              "1    6574\n",
              "0    1874\n",
              "Name: pass, dtype: int64"
            ]
          },
          "metadata": {
            "tags": []
          },
          "execution_count": 202
        }
      ]
    },
    {
      "cell_type": "code",
      "metadata": {
        "id": "7AqRmx-NFkoM",
        "colab_type": "code",
        "colab": {}
      },
      "source": [
        "X_train = train[list(range(100)) + ['is_restaurants',\n",
        "       'is_food', 'is_fast_food', 'is_grocery', 'is_convenience_store',\n",
        "       'is_adult', 'is_bakeries', 'is_buffet', 'is_sushi_bar', 'is_alcohol',\n",
        "       'is_pizza', 'is_coffee_and_tea', 'is_ice_cream_deserts',\n",
        "       'is_sandwiches', 'is_burgers', 'is_vietnamese', 'is_japanese',\n",
        "       'is_thai', 'is_italian', 'is_korean', 'is_american', 'is_chinese',\n",
        "       'is_mexican']+ ['sentiment_score'] +  ['ratings'] + ['previous_fail1','previous_pass1']+['previous_fail2','previous_pass2']+['previous_fail3','previous_pass3']+['previous_demerits_avg','no_of_inspections','previous_demerits_max','previous_demerits_min'] + ['avg_temp','max_temp','min_temp','precip']]\n",
        "X_test = test[ list(range(100)) + ['is_restaurants',\n",
        "       'is_food', 'is_fast_food', 'is_grocery', 'is_convenience_store',\n",
        "       'is_adult', 'is_bakeries', 'is_buffet', 'is_sushi_bar', 'is_alcohol',\n",
        "       'is_pizza', 'is_coffee_and_tea', 'is_ice_cream_deserts',\n",
        "       'is_sandwiches', 'is_burgers', 'is_vietnamese', 'is_japanese',\n",
        "       'is_thai', 'is_italian', 'is_korean', 'is_american', 'is_chinese',\n",
        "       'is_mexican'] + ['sentiment_score'] + ['ratings'] +['previous_fail1','previous_pass1']+['previous_fail2','previous_pass2']+['previous_fail3','previous_pass3']+['previous_demerits_avg','no_of_inspections','previous_demerits_max','previous_demerits_min']+ ['avg_temp','max_temp','min_temp','precip']] "
      ],
      "execution_count": 0,
      "outputs": []
    },
    {
      "cell_type": "code",
      "metadata": {
        "id": "3LpIWNSNDCbS",
        "colab_type": "code",
        "colab": {}
      },
      "source": [
        "Y_train = train['pass']"
      ],
      "execution_count": 0,
      "outputs": []
    },
    {
      "cell_type": "code",
      "metadata": {
        "id": "9k3kK7ENDJVW",
        "colab_type": "code",
        "colab": {}
      },
      "source": [
        "Y_test = test['pass']"
      ],
      "execution_count": 0,
      "outputs": []
    },
    {
      "cell_type": "code",
      "metadata": {
        "id": "g4p7vwz5DOJt",
        "colab_type": "code",
        "colab": {}
      },
      "source": [
        "sc = StandardScaler()"
      ],
      "execution_count": 0,
      "outputs": []
    },
    {
      "cell_type": "code",
      "metadata": {
        "id": "T4H0p9bNJlQV",
        "colab_type": "code",
        "colab": {}
      },
      "source": [
        "rus = RandomUnderSampler(random_state=42)"
      ],
      "execution_count": 0,
      "outputs": []
    },
    {
      "cell_type": "code",
      "metadata": {
        "id": "bQ05YZTwJpa0",
        "colab_type": "code",
        "outputId": "f9d1c588-4ed1-4c96-acbc-36191d5a8f9f",
        "colab": {
          "base_uri": "https://localhost:8080/",
          "height": 72
        }
      },
      "source": [
        "X_train_under,Y_train_under= rus.fit_resample(X_train,Y_train)"
      ],
      "execution_count": 208,
      "outputs": [
        {
          "output_type": "stream",
          "text": [
            "/usr/local/lib/python3.6/dist-packages/sklearn/utils/deprecation.py:87: FutureWarning: Function safe_indexing is deprecated; safe_indexing is deprecated in version 0.22 and will be removed in version 0.24.\n",
            "  warnings.warn(msg, category=FutureWarning)\n"
          ],
          "name": "stderr"
        }
      ]
    },
    {
      "cell_type": "code",
      "metadata": {
        "id": "s1troMqeDcnR",
        "colab_type": "code",
        "colab": {}
      },
      "source": [
        "X_train_fit = sc.fit_transform(X_train_under)"
      ],
      "execution_count": 0,
      "outputs": []
    },
    {
      "cell_type": "code",
      "metadata": {
        "id": "bc_S2qxtIrhN",
        "colab_type": "code",
        "colab": {}
      },
      "source": [
        "X_test_fit  = sc.fit_transform(X_test)"
      ],
      "execution_count": 0,
      "outputs": []
    },
    {
      "cell_type": "code",
      "metadata": {
        "id": "bWjhAlsxLhhw",
        "colab_type": "code",
        "colab": {}
      },
      "source": [
        "clf = RandomForestClassifier()"
      ],
      "execution_count": 0,
      "outputs": []
    },
    {
      "cell_type": "code",
      "metadata": {
        "id": "OfPz_UO5Ly6B",
        "colab_type": "code",
        "colab": {}
      },
      "source": [
        "parameters_rnf = {'n_estimators':[100,1000],'max_depth':[50,100,500]}"
      ],
      "execution_count": 0,
      "outputs": []
    },
    {
      "cell_type": "code",
      "metadata": {
        "id": "mAzrfZiZLBsq",
        "colab_type": "code",
        "colab": {}
      },
      "source": [
        "grid_clf = GridSearchCV(clf,parameters_rnf,scoring={'accuracy':'accuracy','precision_0':precision_0},refit=False)"
      ],
      "execution_count": 0,
      "outputs": []
    },
    {
      "cell_type": "code",
      "metadata": {
        "id": "74aBCLw7MVB3",
        "colab_type": "code",
        "colab": {}
      },
      "source": [
        "grid_clf.fit(X_train_fit,Y_train_under)"
      ],
      "execution_count": 0,
      "outputs": []
    },
    {
      "cell_type": "code",
      "metadata": {
        "id": "rmjkAphMNv9x",
        "colab_type": "code",
        "colab": {}
      },
      "source": [
        "grid_clf.cv_results_"
      ],
      "execution_count": 0,
      "outputs": []
    },
    {
      "cell_type": "code",
      "metadata": {
        "id": "tn7gAJH9VR6b",
        "colab_type": "code",
        "outputId": "a098faba-7356-42be-a8cb-f1b3a419d6d4",
        "colab": {
          "base_uri": "https://localhost:8080/",
          "height": 156
        }
      },
      "source": [
        "clf = RandomForestClassifier(n_estimators=1000,max_depth=100,random_state=100)\n",
        "clf.fit(X_train_fit,Y_train_under)"
      ],
      "execution_count": 213,
      "outputs": [
        {
          "output_type": "execute_result",
          "data": {
            "text/plain": [
              "RandomForestClassifier(bootstrap=True, ccp_alpha=0.0, class_weight=None,\n",
              "                       criterion='gini', max_depth=100, max_features='auto',\n",
              "                       max_leaf_nodes=None, max_samples=None,\n",
              "                       min_impurity_decrease=0.0, min_impurity_split=None,\n",
              "                       min_samples_leaf=1, min_samples_split=2,\n",
              "                       min_weight_fraction_leaf=0.0, n_estimators=1000,\n",
              "                       n_jobs=None, oob_score=False, random_state=100,\n",
              "                       verbose=0, warm_start=False)"
            ]
          },
          "metadata": {
            "tags": []
          },
          "execution_count": 213
        }
      ]
    },
    {
      "cell_type": "code",
      "metadata": {
        "id": "iZCsLFNwHLCf",
        "colab_type": "code",
        "colab": {
          "base_uri": "https://localhost:8080/",
          "height": 166
        },
        "outputId": "e4e5ca22-788e-4005-ce53-9dc782a258bf"
      },
      "source": [
        "fpr,tpr,threshold =roc_curve(Y_test,y_pred_rnf_prob[:,0])"
      ],
      "execution_count": 102,
      "outputs": [
        {
          "output_type": "error",
          "ename": "NameError",
          "evalue": "ignored",
          "traceback": [
            "\u001b[0;31m---------------------------------------------------------------------------\u001b[0m",
            "\u001b[0;31mNameError\u001b[0m                                 Traceback (most recent call last)",
            "\u001b[0;32m<ipython-input-102-b2a9b569b12d>\u001b[0m in \u001b[0;36m<module>\u001b[0;34m()\u001b[0m\n\u001b[0;32m----> 1\u001b[0;31m \u001b[0mfpr\u001b[0m\u001b[0;34m,\u001b[0m\u001b[0mtpr\u001b[0m\u001b[0;34m,\u001b[0m\u001b[0mthreshold\u001b[0m \u001b[0;34m=\u001b[0m\u001b[0mroc_curve\u001b[0m\u001b[0;34m(\u001b[0m\u001b[0mY_test\u001b[0m\u001b[0;34m,\u001b[0m\u001b[0my_pred_rnf_prob\u001b[0m\u001b[0;34m[\u001b[0m\u001b[0;34m:\u001b[0m\u001b[0;34m,\u001b[0m\u001b[0;36m0\u001b[0m\u001b[0;34m]\u001b[0m\u001b[0;34m)\u001b[0m\u001b[0;34m\u001b[0m\u001b[0;34m\u001b[0m\u001b[0m\n\u001b[0m",
            "\u001b[0;31mNameError\u001b[0m: name 'y_pred_rnf_prob' is not defined"
          ]
        }
      ]
    },
    {
      "cell_type": "code",
      "metadata": {
        "id": "PvCBAic-H-ua",
        "colab_type": "code",
        "colab": {}
      },
      "source": [
        "import seaborn as sns"
      ],
      "execution_count": 0,
      "outputs": []
    },
    {
      "cell_type": "code",
      "metadata": {
        "id": "CmVlA2h2ICpt",
        "colab_type": "code",
        "colab": {}
      },
      "source": [
        "sns.lineplot(y=tpr,x=fpr)"
      ],
      "execution_count": 0,
      "outputs": []
    },
    {
      "cell_type": "code",
      "metadata": {
        "id": "brNr6n8KGdLW",
        "colab_type": "code",
        "colab": {}
      },
      "source": [
        "y_pred_rnf_prob = clf.predict_proba(X_test_fit )"
      ],
      "execution_count": 0,
      "outputs": []
    },
    {
      "cell_type": "code",
      "metadata": {
        "id": "PFmO3W0sHo4w",
        "colab_type": "code",
        "colab": {}
      },
      "source": [
        "y_pred_rnf_prob[:,0]"
      ],
      "execution_count": 0,
      "outputs": []
    },
    {
      "cell_type": "code",
      "metadata": {
        "id": "XFiNAGb8I8eZ",
        "colab_type": "code",
        "colab": {}
      },
      "source": [
        "y_pred_rnf = clf.predict(X_test_fit )\n"
      ],
      "execution_count": 0,
      "outputs": []
    },
    {
      "cell_type": "code",
      "metadata": {
        "id": "hu4uU5tNI_RF",
        "colab_type": "code",
        "outputId": "4b8117ec-db28-47b2-e27e-a2f942b21895",
        "colab": {
          "base_uri": "https://localhost:8080/",
          "height": 35
        }
      },
      "source": [
        "accuracy_score(y_true=Y_test,y_pred=y_pred_rnf)"
      ],
      "execution_count": 215,
      "outputs": [
        {
          "output_type": "execute_result",
          "data": {
            "text/plain": [
              "0.6878551136363636"
            ]
          },
          "metadata": {
            "tags": []
          },
          "execution_count": 215
        }
      ]
    },
    {
      "cell_type": "code",
      "metadata": {
        "id": "FPJX52B8JJuA",
        "colab_type": "code",
        "outputId": "a746676d-46e0-4d7d-c371-72446a680ee2",
        "colab": {
          "base_uri": "https://localhost:8080/",
          "height": 173
        }
      },
      "source": [
        "print(classification_report(y_true=Y_test,y_pred=y_pred_rnf, target_names=['fail','pass']))"
      ],
      "execution_count": 216,
      "outputs": [
        {
          "output_type": "stream",
          "text": [
            "              precision    recall  f1-score   support\n",
            "\n",
            "        fail       0.38      0.66      0.48      1874\n",
            "        pass       0.88      0.70      0.78      6574\n",
            "\n",
            "    accuracy                           0.69      8448\n",
            "   macro avg       0.63      0.68      0.63      8448\n",
            "weighted avg       0.77      0.69      0.71      8448\n",
            "\n"
          ],
          "name": "stdout"
        }
      ]
    },
    {
      "cell_type": "code",
      "metadata": {
        "id": "YXzV0zbAbeSW",
        "colab_type": "code",
        "colab": {}
      },
      "source": [
        "logreg = LogisticRegression()"
      ],
      "execution_count": 0,
      "outputs": []
    },
    {
      "cell_type": "code",
      "metadata": {
        "id": "MpWA91MicoZZ",
        "colab_type": "code",
        "colab": {}
      },
      "source": [
        "parameters_logreg = [{'C':[0.001,0.01,0.1,1,10],'penalty':['l2']},{'C':[0.001,0.01,0.1,1,10],'penalty':['l1'],'solver':['liblinear']},{'penalty':['elasticnet'],'solver':['saga'],'l1_ratio':[0.3,0.5,0.8]}]"
      ],
      "execution_count": 0,
      "outputs": []
    },
    {
      "cell_type": "code",
      "metadata": {
        "id": "z4hoOtWBcgf7",
        "colab_type": "code",
        "colab": {}
      },
      "source": [
        "grid_logreg = GridSearchCV(estimator=logreg,param_grid=parameters_logreg,scoring={'accuracy':'accuracy','precision_0':},refit=False)"
      ],
      "execution_count": 0,
      "outputs": []
    },
    {
      "cell_type": "code",
      "metadata": {
        "id": "XpsjMAbydRnt",
        "colab_type": "code",
        "colab": {}
      },
      "source": [
        "grid_logreg.fit(X_train_fit,Y_train_under)"
      ],
      "execution_count": 0,
      "outputs": []
    },
    {
      "cell_type": "code",
      "metadata": {
        "id": "OZwgFtaSdcTU",
        "colab_type": "code",
        "colab": {}
      },
      "source": [
        "grid_logreg.cv_results_"
      ],
      "execution_count": 0,
      "outputs": []
    },
    {
      "cell_type": "code",
      "metadata": {
        "id": "3OdUETQis5Uf",
        "colab_type": "code",
        "outputId": "b3271990-ada3-4376-f517-00ca3157f18e",
        "colab": {
          "base_uri": "https://localhost:8080/",
          "height": 104
        }
      },
      "source": [
        "logreg = LogisticRegression(C=0.1,random_state=100)\n",
        "logreg.fit(X_train_fit,Y_train_under)"
      ],
      "execution_count": 106,
      "outputs": [
        {
          "output_type": "execute_result",
          "data": {
            "text/plain": [
              "LogisticRegression(C=0.1, class_weight=None, dual=False, fit_intercept=True,\n",
              "                   intercept_scaling=1, l1_ratio=None, max_iter=100,\n",
              "                   multi_class='auto', n_jobs=None, penalty='l2',\n",
              "                   random_state=100, solver='lbfgs', tol=0.0001, verbose=0,\n",
              "                   warm_start=False)"
            ]
          },
          "metadata": {
            "tags": []
          },
          "execution_count": 106
        }
      ]
    },
    {
      "cell_type": "code",
      "metadata": {
        "id": "6Uwbk_NGHH_3",
        "colab_type": "code",
        "colab": {}
      },
      "source": [
        "y_pred_logreg = logreg.predict(X_test_fit )"
      ],
      "execution_count": 0,
      "outputs": []
    },
    {
      "cell_type": "code",
      "metadata": {
        "id": "XqVwp4UvHTi-",
        "colab_type": "code",
        "outputId": "62aa1b4f-d5e2-4894-c708-778f023fcb14",
        "colab": {
          "base_uri": "https://localhost:8080/",
          "height": 35
        }
      },
      "source": [
        "accuracy_score(y_true=Y_test,y_pred=y_pred_logreg)"
      ],
      "execution_count": 108,
      "outputs": [
        {
          "output_type": "execute_result",
          "data": {
            "text/plain": [
              "0.6303267045454546"
            ]
          },
          "metadata": {
            "tags": []
          },
          "execution_count": 108
        }
      ]
    },
    {
      "cell_type": "code",
      "metadata": {
        "id": "MFmaAV3tHW3a",
        "colab_type": "code",
        "outputId": "a06ad799-df85-45ae-9a1d-14276600eb08",
        "colab": {
          "base_uri": "https://localhost:8080/",
          "height": 173
        }
      },
      "source": [
        "print(classification_report(y_true=Y_test,y_pred=y_pred_logreg, target_names=['fail','pass']))"
      ],
      "execution_count": 109,
      "outputs": [
        {
          "output_type": "stream",
          "text": [
            "              precision    recall  f1-score   support\n",
            "\n",
            "        fail       0.34      0.69      0.45      1874\n",
            "        pass       0.87      0.61      0.72      6574\n",
            "\n",
            "    accuracy                           0.63      8448\n",
            "   macro avg       0.61      0.65      0.59      8448\n",
            "weighted avg       0.76      0.63      0.66      8448\n",
            "\n"
          ],
          "name": "stdout"
        }
      ]
    },
    {
      "cell_type": "code",
      "metadata": {
        "id": "LELSqqUPBG63",
        "colab_type": "code",
        "colab": {
          "base_uri": "https://localhost:8080/",
          "height": 52
        },
        "outputId": "078832a2-879a-409c-d92a-e7bf6b7d0386"
      },
      "source": [
        "confusion_matrix(y_true=Y_test,y_pred=y_pred_rnf)"
      ],
      "execution_count": 141,
      "outputs": [
        {
          "output_type": "execute_result",
          "data": {
            "text/plain": [
              "array([[1235,  639],\n",
              "       [1938, 4636]])"
            ]
          },
          "metadata": {
            "tags": []
          },
          "execution_count": 141
        }
      ]
    },
    {
      "cell_type": "code",
      "metadata": {
        "id": "XOlXWV3OKjSp",
        "colab_type": "code",
        "colab": {
          "base_uri": "https://localhost:8080/",
          "height": 35
        },
        "outputId": "43d4dd4d-7911-4e25-f5e7-2bcdddfb50c9"
      },
      "source": [
        "no_of_inspections_per_month = 3600/12\n",
        "no_of_inspections_per_month"
      ],
      "execution_count": 170,
      "outputs": [
        {
          "output_type": "execute_result",
          "data": {
            "text/plain": [
              "300.0"
            ]
          },
          "metadata": {
            "tags": []
          },
          "execution_count": 170
        }
      ]
    },
    {
      "cell_type": "code",
      "metadata": {
        "id": "njtKvB9VK2rl",
        "colab_type": "code",
        "colab": {
          "base_uri": "https://localhost:8080/",
          "height": 35
        },
        "outputId": "38aab364-9bed-47b3-f97a-1d29ad8e7106"
      },
      "source": [
        "predicted_fails = (1235+1938)/len(Y_test) *3600\n",
        "predicted_fails"
      ],
      "execution_count": 172,
      "outputs": [
        {
          "output_type": "execute_result",
          "data": {
            "text/plain": [
              "1352.130681818182"
            ]
          },
          "metadata": {
            "tags": []
          },
          "execution_count": 172
        }
      ]
    },
    {
      "cell_type": "code",
      "metadata": {
        "id": "E6UtskpdJVKl",
        "colab_type": "code",
        "colab": {
          "base_uri": "https://localhost:8080/",
          "height": 35
        },
        "outputId": "2dab3081-7de4-4216-a308-600610a2025e"
      },
      "source": [
        "time_taken_for_predicted_fails = predicted_fails/no_of_inspections_per_month\n",
        "time_taken_for_predicted_fails"
      ],
      "execution_count": 173,
      "outputs": [
        {
          "output_type": "execute_result",
          "data": {
            "text/plain": [
              "4.507102272727273"
            ]
          },
          "metadata": {
            "tags": []
          },
          "execution_count": 173
        }
      ]
    },
    {
      "cell_type": "code",
      "metadata": {
        "id": "JAOGuG44LTAn",
        "colab_type": "code",
        "colab": {
          "base_uri": "https://localhost:8080/",
          "height": 35
        },
        "outputId": "723833e7-bcbb-4b2c-8b34-277c402ac6c1"
      },
      "source": [
        "average_time_taken_for_predicted_fails = time_taken_for_predicted_fails/2\n",
        "average_time_taken_for_predicted_fails"
      ],
      "execution_count": 174,
      "outputs": [
        {
          "output_type": "execute_result",
          "data": {
            "text/plain": [
              "2.2535511363636367"
            ]
          },
          "metadata": {
            "tags": []
          },
          "execution_count": 174
        }
      ]
    },
    {
      "cell_type": "code",
      "metadata": {
        "id": "BdxD9wVDLcj-",
        "colab_type": "code",
        "colab": {
          "base_uri": "https://localhost:8080/",
          "height": 35
        },
        "outputId": "9ea45986-3cdd-41b2-cf81-fda47f368656"
      },
      "source": [
        "average_time_for_rest = (12+time_taken_for_predicted_fails)/2\n",
        "average_time_for_rest"
      ],
      "execution_count": 175,
      "outputs": [
        {
          "output_type": "execute_result",
          "data": {
            "text/plain": [
              "8.253551136363637"
            ]
          },
          "metadata": {
            "tags": []
          },
          "execution_count": 175
        }
      ]
    },
    {
      "cell_type": "code",
      "metadata": {
        "id": "ZzLkd4EoLoCx",
        "colab_type": "code",
        "colab": {
          "base_uri": "https://localhost:8080/",
          "height": 35
        },
        "outputId": "6350c25c-8b6a-4588-fe29-06891a40d2fc"
      },
      "source": [
        "total_cost = (average_time_for_rest*(1-0.69) + average_time_taken_for_predicted_fails*0.69)*100*3600\n",
        "total_cost"
      ],
      "execution_count": 176,
      "outputs": [
        {
          "output_type": "execute_result",
          "data": {
            "text/plain": [
              "1480878.4090909092"
            ]
          },
          "metadata": {
            "tags": []
          },
          "execution_count": 176
        }
      ]
    },
    {
      "cell_type": "code",
      "metadata": {
        "id": "5zTsVkcrMHF4",
        "colab_type": "code",
        "colab": {
          "base_uri": "https://localhost:8080/",
          "height": 35
        },
        "outputId": "659bfb29-d6c2-47fc-b102-c0b1885e11a4"
      },
      "source": [
        "total_cost_random = 6*3600*100\n",
        "total_cost_random"
      ],
      "execution_count": 177,
      "outputs": [
        {
          "output_type": "execute_result",
          "data": {
            "text/plain": [
              "2160000"
            ]
          },
          "metadata": {
            "tags": []
          },
          "execution_count": 177
        }
      ]
    },
    {
      "cell_type": "code",
      "metadata": {
        "id": "j6Z05RC-NAN_",
        "colab_type": "code",
        "colab": {
          "base_uri": "https://localhost:8080/",
          "height": 35
        },
        "outputId": "04a4fccf-a839-465c-98a4-a7d7673a8931"
      },
      "source": [
        "total_cost_random - total_cost"
      ],
      "execution_count": 178,
      "outputs": [
        {
          "output_type": "execute_result",
          "data": {
            "text/plain": [
              "679121.5909090908"
            ]
          },
          "metadata": {
            "tags": []
          },
          "execution_count": 178
        }
      ]
    },
    {
      "cell_type": "code",
      "metadata": {
        "id": "Bf_QY91gJlue",
        "colab_type": "code",
        "colab": {
          "base_uri": "https://localhost:8080/",
          "height": 35
        },
        "outputId": "ccc334bd-c22b-402f-a662-b1021cd5048d"
      },
      "source": [
        "(12+4.50)/2"
      ],
      "execution_count": 153,
      "outputs": [
        {
          "output_type": "execute_result",
          "data": {
            "text/plain": [
              "8.25"
            ]
          },
          "metadata": {
            "tags": []
          },
          "execution_count": 153
        }
      ]
    },
    {
      "cell_type": "code",
      "metadata": {
        "id": "pzquviXUHmC4",
        "colab_type": "code",
        "outputId": "4b6c656f-3b21-4604-c6cf-34d5d5e2d4a1",
        "colab": {
          "base_uri": "https://localhost:8080/",
          "height": 35
        }
      },
      "source": [
        "gb = GaussianNB()\n",
        "gb.fit(X_train_fit,Y_train_under)"
      ],
      "execution_count": 110,
      "outputs": [
        {
          "output_type": "execute_result",
          "data": {
            "text/plain": [
              "GaussianNB(priors=None, var_smoothing=1e-09)"
            ]
          },
          "metadata": {
            "tags": []
          },
          "execution_count": 110
        }
      ]
    },
    {
      "cell_type": "code",
      "metadata": {
        "id": "1vkq5N_PH5Lc",
        "colab_type": "code",
        "colab": {}
      },
      "source": [
        "y_pred_gb = gb.predict(X_test_fit )"
      ],
      "execution_count": 0,
      "outputs": []
    },
    {
      "cell_type": "code",
      "metadata": {
        "id": "zVtuJ8FwIA7y",
        "colab_type": "code",
        "outputId": "863df86b-df22-4f9c-8243-b4c4a972902c",
        "colab": {
          "base_uri": "https://localhost:8080/",
          "height": 35
        }
      },
      "source": [
        "accuracy_score(y_true=Y_test,y_pred=y_pred_gb)"
      ],
      "execution_count": 112,
      "outputs": [
        {
          "output_type": "execute_result",
          "data": {
            "text/plain": [
              "0.6742424242424242"
            ]
          },
          "metadata": {
            "tags": []
          },
          "execution_count": 112
        }
      ]
    },
    {
      "cell_type": "code",
      "metadata": {
        "id": "4XZEaxp7IEQ3",
        "colab_type": "code",
        "outputId": "5b8f5595-01d1-45f8-b1a1-41567aa627ba",
        "colab": {
          "base_uri": "https://localhost:8080/",
          "height": 173
        }
      },
      "source": [
        "print(classification_report(y_true=Y_test,y_pred=y_pred_gb, target_names=['fail','pass']))"
      ],
      "execution_count": 113,
      "outputs": [
        {
          "output_type": "stream",
          "text": [
            "              precision    recall  f1-score   support\n",
            "\n",
            "        fail       0.33      0.46      0.39      1874\n",
            "        pass       0.83      0.73      0.78      6574\n",
            "\n",
            "    accuracy                           0.67      8448\n",
            "   macro avg       0.58      0.60      0.58      8448\n",
            "weighted avg       0.72      0.67      0.69      8448\n",
            "\n"
          ],
          "name": "stdout"
        }
      ]
    },
    {
      "cell_type": "code",
      "metadata": {
        "id": "iHqEsoRBwTJg",
        "colab_type": "code",
        "colab": {}
      },
      "source": [
        "svc= SVC()"
      ],
      "execution_count": 0,
      "outputs": []
    },
    {
      "cell_type": "code",
      "metadata": {
        "id": "j0AxLxIUwWLI",
        "colab_type": "code",
        "colab": {}
      },
      "source": [
        "parameters_svm = [{'C':[0.001,0.01,0.1,1,10],'kernel':['linear','rbf']},{'C':[0.001,0.01,0.1,1,10],'kernel':['poly'],'degree':[2,3,4,5]}]"
      ],
      "execution_count": 0,
      "outputs": []
    },
    {
      "cell_type": "code",
      "metadata": {
        "id": "NDOw77Ylxb_c",
        "colab_type": "code",
        "colab": {}
      },
      "source": [
        "grid_svm = GridSearchCV(estimator=svc,param_grid=parameters_svm,scoring={'accuracy':'accuracy','recall_0':recall_0},refit=False)"
      ],
      "execution_count": 0,
      "outputs": []
    },
    {
      "cell_type": "code",
      "metadata": {
        "id": "lMthE-m9xx6x",
        "colab_type": "code",
        "colab": {
          "base_uri": "https://localhost:8080/",
          "height": 295
        },
        "outputId": "7aec7faf-c042-438d-df50-72b251cbd1d5"
      },
      "source": [
        "grid_svm.fit(X_train_fit,Y_train_under)"
      ],
      "execution_count": 120,
      "outputs": [
        {
          "output_type": "execute_result",
          "data": {
            "text/plain": [
              "GridSearchCV(cv=None, error_score=nan,\n",
              "             estimator=SVC(C=0.1, break_ties=False, cache_size=200,\n",
              "                           class_weight=None, coef0=0.0,\n",
              "                           decision_function_shape='ovr', degree=3,\n",
              "                           gamma='scale', kernel='rbf', max_iter=-1,\n",
              "                           probability=False, random_state=100, shrinking=True,\n",
              "                           tol=0.001, verbose=False),\n",
              "             iid='deprecated', n_jobs=None,\n",
              "             param_grid=[{'C': [0.001, 0.01, 0.1, 1, 10],\n",
              "                          'kernel': ['linear', 'rbf']},\n",
              "                         {'C': [0.001, 0.01, 0.1, 1, 10],\n",
              "                          'degree': [2, 3, 4, 5], 'kernel': ['poly']}],\n",
              "             pre_dispatch='2*n_jobs', refit=False, return_train_score=False,\n",
              "             scoring={'accuracy': 'accuracy',\n",
              "                      'recall_0': make_scorer(recall_score, pos_label=0, average=binary)},\n",
              "             verbose=0)"
            ]
          },
          "metadata": {
            "tags": []
          },
          "execution_count": 120
        }
      ]
    },
    {
      "cell_type": "code",
      "metadata": {
        "id": "_UErCsGjx2yV",
        "colab_type": "code",
        "colab": {
          "base_uri": "https://localhost:8080/",
          "height": 1000
        },
        "outputId": "199a78ac-2613-4c85-f49c-2604b8eaf672"
      },
      "source": [
        "grid_svm.cv_results_"
      ],
      "execution_count": 121,
      "outputs": [
        {
          "output_type": "execute_result",
          "data": {
            "text/plain": [
              "{'mean_fit_time': array([ 32.2166872 ,  48.0618556 ,  33.87473497,  43.97157731,\n",
              "         40.35651665,  40.97443113, 103.18231015,  38.35186934,\n",
              "        622.31835389,  44.66488104,  39.18747392,  39.70746512,\n",
              "         38.78723507,  38.61888323,  38.08259468,  37.67893486,\n",
              "         39.57638512,  39.3244349 ,  37.92857895,  38.34641147,\n",
              "         39.1327867 ,  39.30153351,  35.08820066,  35.85952468,\n",
              "         37.72127929,  38.27303476,  38.10403066,  37.72676444,\n",
              "         38.80190425,  38.63061538]),\n",
              " 'mean_score_time': array([5.96940951, 9.97469945, 6.03975377, 8.99321442, 5.72222176,\n",
              "        7.60527635, 5.68089757, 7.26870384, 5.68623362, 7.017629  ,\n",
              "        8.01439838, 7.97982049, 7.96215453, 7.96346092, 7.74786015,\n",
              "        7.62180753, 7.91299505, 7.76489921, 7.34270797, 7.49374375,\n",
              "        7.64193316, 7.59081845, 6.21615129, 6.66611185, 7.24997592,\n",
              "        7.27444658, 5.54192986, 6.00063992, 6.60367823, 6.92510362]),\n",
              " 'mean_test_accuracy': array([0.63293854, 0.52450672, 0.62663885, 0.63452918, 0.62523871,\n",
              "        0.63242972, 0.62549327, 0.61976508, 0.62568415, 0.58680177,\n",
              "        0.50369044, 0.49751799, 0.49930042, 0.496627  , 0.51597293,\n",
              "        0.50451771, 0.4984088 , 0.49618153, 0.61002869, 0.52927257,\n",
              "        0.51094522, 0.50629994, 0.61174694, 0.61212868, 0.53353662,\n",
              "        0.51349034, 0.58788277, 0.60016479, 0.59742882, 0.55606449]),\n",
              " 'mean_test_recall_0': array([0.58992036, 0.53380013, 0.58266667, 0.66374005, 0.58113922,\n",
              "        0.640197  , 0.58126661, 0.58330386, 0.58139384, 0.50770494,\n",
              "        0.37300953, 0.00789177, 0.02393169, 0.0113281 , 0.07649428,\n",
              "        0.03614382, 0.0195996 , 0.01654535, 0.49789149, 0.13070612,\n",
              "        0.0687244 , 0.05549017, 0.56242964, 0.5237332 , 0.19421002,\n",
              "        0.10359789, 0.52883327, 0.51826587, 0.49382243, 0.34667154]),\n",
              " 'param_C': masked_array(data=[0.001, 0.001, 0.01, 0.01, 0.1, 0.1, 1, 1, 10, 10,\n",
              "                    0.001, 0.001, 0.001, 0.001, 0.01, 0.01, 0.01, 0.01,\n",
              "                    0.1, 0.1, 0.1, 0.1, 1, 1, 1, 1, 10, 10, 10, 10],\n",
              "              mask=[False, False, False, False, False, False, False, False,\n",
              "                    False, False, False, False, False, False, False, False,\n",
              "                    False, False, False, False, False, False, False, False,\n",
              "                    False, False, False, False, False, False],\n",
              "        fill_value='?',\n",
              "             dtype=object),\n",
              " 'param_degree': masked_array(data=[--, --, --, --, --, --, --, --, --, --, 2, 3, 4, 5, 2,\n",
              "                    3, 4, 5, 2, 3, 4, 5, 2, 3, 4, 5, 2, 3, 4, 5],\n",
              "              mask=[ True,  True,  True,  True,  True,  True,  True,  True,\n",
              "                     True,  True, False, False, False, False, False, False,\n",
              "                    False, False, False, False, False, False, False, False,\n",
              "                    False, False, False, False, False, False],\n",
              "        fill_value='?',\n",
              "             dtype=object),\n",
              " 'param_kernel': masked_array(data=['linear', 'rbf', 'linear', 'rbf', 'linear', 'rbf',\n",
              "                    'linear', 'rbf', 'linear', 'rbf', 'poly', 'poly',\n",
              "                    'poly', 'poly', 'poly', 'poly', 'poly', 'poly', 'poly',\n",
              "                    'poly', 'poly', 'poly', 'poly', 'poly', 'poly', 'poly',\n",
              "                    'poly', 'poly', 'poly', 'poly'],\n",
              "              mask=[False, False, False, False, False, False, False, False,\n",
              "                    False, False, False, False, False, False, False, False,\n",
              "                    False, False, False, False, False, False, False, False,\n",
              "                    False, False, False, False, False, False],\n",
              "        fill_value='?',\n",
              "             dtype=object),\n",
              " 'params': [{'C': 0.001, 'kernel': 'linear'},\n",
              "  {'C': 0.001, 'kernel': 'rbf'},\n",
              "  {'C': 0.01, 'kernel': 'linear'},\n",
              "  {'C': 0.01, 'kernel': 'rbf'},\n",
              "  {'C': 0.1, 'kernel': 'linear'},\n",
              "  {'C': 0.1, 'kernel': 'rbf'},\n",
              "  {'C': 1, 'kernel': 'linear'},\n",
              "  {'C': 1, 'kernel': 'rbf'},\n",
              "  {'C': 10, 'kernel': 'linear'},\n",
              "  {'C': 10, 'kernel': 'rbf'},\n",
              "  {'C': 0.001, 'degree': 2, 'kernel': 'poly'},\n",
              "  {'C': 0.001, 'degree': 3, 'kernel': 'poly'},\n",
              "  {'C': 0.001, 'degree': 4, 'kernel': 'poly'},\n",
              "  {'C': 0.001, 'degree': 5, 'kernel': 'poly'},\n",
              "  {'C': 0.01, 'degree': 2, 'kernel': 'poly'},\n",
              "  {'C': 0.01, 'degree': 3, 'kernel': 'poly'},\n",
              "  {'C': 0.01, 'degree': 4, 'kernel': 'poly'},\n",
              "  {'C': 0.01, 'degree': 5, 'kernel': 'poly'},\n",
              "  {'C': 0.1, 'degree': 2, 'kernel': 'poly'},\n",
              "  {'C': 0.1, 'degree': 3, 'kernel': 'poly'},\n",
              "  {'C': 0.1, 'degree': 4, 'kernel': 'poly'},\n",
              "  {'C': 0.1, 'degree': 5, 'kernel': 'poly'},\n",
              "  {'C': 1, 'degree': 2, 'kernel': 'poly'},\n",
              "  {'C': 1, 'degree': 3, 'kernel': 'poly'},\n",
              "  {'C': 1, 'degree': 4, 'kernel': 'poly'},\n",
              "  {'C': 1, 'degree': 5, 'kernel': 'poly'},\n",
              "  {'C': 10, 'degree': 2, 'kernel': 'poly'},\n",
              "  {'C': 10, 'degree': 3, 'kernel': 'poly'},\n",
              "  {'C': 10, 'degree': 4, 'kernel': 'poly'},\n",
              "  {'C': 10, 'degree': 5, 'kernel': 'poly'}],\n",
              " 'rank_test_accuracy': array([ 2, 19,  4,  1,  7,  3,  6,  8,  5, 15, 25, 28, 26, 29, 20, 24, 27,\n",
              "        30, 11, 18, 22, 23, 10,  9, 17, 21, 14, 12, 13, 16], dtype=int32),\n",
              " 'rank_test_recall_0': array([ 3, 10,  5,  1,  8,  2,  7,  4,  6, 14, 17, 30, 26, 29, 22, 25, 27,\n",
              "        28, 15, 20, 23, 24,  9, 12, 19, 21, 11, 13, 16, 18], dtype=int32),\n",
              " 'split0_test_accuracy': array([0.62806236, 0.49984092, 0.6131085 , 0.6315622 , 0.61279033,\n",
              "        0.62456252, 0.61247216, 0.61565383, 0.61247216, 0.58001909,\n",
              "        0.49697741, 0.49888641, 0.49538657, 0.49538657, 0.51415845,\n",
              "        0.50843143, 0.50047725, 0.49602291, 0.59688196, 0.52115813,\n",
              "        0.51065861, 0.50334076, 0.6131085 , 0.60769965, 0.52306713,\n",
              "        0.50843143, 0.58733694, 0.58924594, 0.58924594, 0.55742921]),\n",
              " 'split0_test_recall_0': array([0.58333333, 0.        , 0.5648855 , 0.65267176, 0.56361323,\n",
              "        0.63613232, 0.56361323, 0.56997455, 0.56361323, 0.48473282,\n",
              "        0.00381679, 0.00636132, 0.00699746, 0.00826972, 0.0648855 ,\n",
              "        0.04262087, 0.0235369 , 0.01844784, 0.46310433, 0.11577608,\n",
              "        0.07061069, 0.05407125, 0.56997455, 0.51081425, 0.14885496,\n",
              "        0.08969466, 0.52926209, 0.50954198, 0.4783715 , 0.27926209]),\n",
              " 'split1_test_accuracy': array([0.6315622 , 0.49984092, 0.62742603, 0.63888005, 0.62551702,\n",
              "        0.62297168, 0.62615336, 0.61756284, 0.62647152, 0.57492841,\n",
              "        0.49984092, 0.49729558, 0.49888641, 0.49665924, 0.52211263,\n",
              "        0.51129494, 0.49984092, 0.49793191, 0.61247216, 0.5517022 ,\n",
              "        0.52561247, 0.51511295, 0.60356347, 0.60992682, 0.56315622,\n",
              "        0.53452116, 0.56315622, 0.59592746, 0.58924594, 0.56792873]),\n",
              " 'split1_test_recall_0': array([0.59223919, 0.        , 0.58842239, 0.6692112 , 0.58778626,\n",
              "        0.61641221, 0.58715013, 0.57824427, 0.58778626, 0.49300254,\n",
              "        0.00636132, 0.00381679, 0.00954198, 0.00954198, 0.07251908,\n",
              "        0.04770992, 0.0216285 , 0.0178117 , 0.59923664, 0.18765903,\n",
              "        0.09923664, 0.07061069, 0.54516539, 0.5648855 , 0.33142494,\n",
              "        0.14885496, 0.48536896, 0.51208651, 0.54643766, 0.61577608]),\n",
              " 'split2_test_accuracy': array([0.6608336 , 0.49984092, 0.65415208, 0.64683423, 0.65447025,\n",
              "        0.65828826, 0.65478842, 0.65606109, 0.65574292, 0.61438116,\n",
              "        0.49984092, 0.49793191, 0.49856825, 0.49793191, 0.51320395,\n",
              "        0.50493159, 0.49920458, 0.49697741, 0.63951639, 0.53420299,\n",
              "        0.50747693, 0.50461343, 0.6471524 , 0.64206172, 0.53483933,\n",
              "        0.51574928, 0.62806236, 0.63601654, 0.62901686, 0.55774738]),\n",
              " 'split2_test_recall_0': array([0.63144494, 1.        , 0.62189688, 0.69446213, 0.62126034,\n",
              "        0.68746022, 0.62062381, 0.65117759, 0.62126034, 0.54042011,\n",
              "        0.98217696, 0.01273074, 0.01782304, 0.01400382, 0.07192871,\n",
              "        0.0375557 , 0.02036919, 0.01845958, 0.52196053, 0.1247613 ,\n",
              "        0.0547422 , 0.04710376, 0.62253342, 0.55187778, 0.16613622,\n",
              "        0.09675366, 0.59070656, 0.55315086, 0.50541057, 0.26607257]),\n",
              " 'split3_test_accuracy': array([0.6150175 , 0.49984092, 0.60897232, 0.62933503, 0.60706332,\n",
              "        0.62328985, 0.60738148, 0.6013363 , 0.60738148, 0.57492841,\n",
              "        0.52656697, 0.49825008, 0.49761374, 0.49984092, 0.51574928,\n",
              "        0.50206809, 0.49825008, 0.49729558, 0.6003818 , 0.52083996,\n",
              "        0.5068406 , 0.50493159, 0.59179128, 0.59879096, 0.51861279,\n",
              "        0.50811327, 0.58320076, 0.58988228, 0.5857461 , 0.54374801]),\n",
              " 'split3_test_recall_0': array([0.55060471, 1.        , 0.54742202, 0.64290261, 0.54487588,\n",
              "        0.60725652, 0.54551241, 0.54678549, 0.54551241, 0.49904519,\n",
              "        0.86505411, 0.00763845, 0.01209421, 0.01782304, 0.08784214,\n",
              "        0.03309994, 0.02100573, 0.01782304, 0.46721833, 0.12030554,\n",
              "        0.06110757, 0.05283259, 0.52259707, 0.48313176, 0.162317  ,\n",
              "        0.09993635, 0.52387015, 0.51241248, 0.45957989, 0.28771483]),\n",
              " 'split4_test_accuracy': array([0.62921706, 0.62316996, 0.62953533, 0.62603437, 0.62635264,\n",
              "        0.63303628, 0.62667091, 0.60821133, 0.62635264, 0.58975175,\n",
              "        0.49522597, 0.49522597, 0.5060471 , 0.49331636, 0.51464036,\n",
              "        0.49586251, 0.49427116, 0.49267982, 0.60089115, 0.51845958,\n",
              "        0.50413749, 0.50350095, 0.60311903, 0.60216423, 0.52800764,\n",
              "        0.50063654, 0.57765754, 0.58975175, 0.59388924, 0.55346913]),\n",
              " 'split4_test_recall_0': array([0.59197963, 0.66900064, 0.59070656, 0.65945258, 0.58816041,\n",
              "        0.65372374, 0.58943348, 0.57033736, 0.58879694, 0.521324  ,\n",
              "        0.00763845, 0.00891152, 0.07320178, 0.00700191, 0.08529599,\n",
              "        0.01973265, 0.01145767, 0.0101846 , 0.43793762, 0.10502864,\n",
              "        0.05792489, 0.05283259, 0.55187778, 0.50795672, 0.162317  ,\n",
              "        0.08274984, 0.51495863, 0.50413749, 0.47931254, 0.28453215]),\n",
              " 'std_fit_time': array([ 0.95962565,  0.71127785,  1.03624037,  0.83887474,  0.39361835,\n",
              "         0.98779922,  1.3113451 ,  0.37758806, 12.86691705,  0.75698692,\n",
              "         0.96256327,  0.46297764,  0.38834282,  0.56372039,  0.61479977,\n",
              "         0.21670344,  0.6022493 ,  0.46858552,  0.74537982,  0.8918175 ,\n",
              "         0.82800282,  0.71156186,  1.09696111,  0.588352  ,  0.48587423,\n",
              "         0.64059675,  0.5247275 ,  0.70177438,  1.14678141,  0.8495525 ]),\n",
              " 'std_score_time': array([0.03303841, 0.19122336, 0.15771044, 0.13167313, 0.0642204 ,\n",
              "        0.06821559, 0.01512867, 0.06850616, 0.06892744, 0.06771645,\n",
              "        0.20119614, 0.26284552, 0.18289502, 0.07657821, 0.10431413,\n",
              "        0.05266437, 0.20497533, 0.03834886, 0.08452771, 0.17228796,\n",
              "        0.05987955, 0.0774889 , 0.04920749, 0.03857178, 0.08574752,\n",
              "        0.04027322, 0.06566891, 0.09017965, 0.0464642 , 0.04973298]),\n",
              " 'std_test_accuracy': array([0.01509184, 0.04933162, 0.01588184, 0.00746041, 0.01637748,\n",
              "        0.01344557, 0.01647795, 0.01903818, 0.0168175 , 0.01481407,\n",
              "        0.01157312, 0.0012556 , 0.00358855, 0.00221504, 0.00317746,\n",
              "        0.0053354 , 0.00219581, 0.0018561 , 0.01565176, 0.01250017,\n",
              "        0.00762145, 0.0044492 , 0.0189475 , 0.01547667, 0.01576019,\n",
              "        0.01155096, 0.02169136, 0.01809246, 0.01600461, 0.00779598]),\n",
              " 'std_test_recall_0': array([0.0257799 , 0.45229392, 0.02527897, 0.01760039, 0.02578905,\n",
              "        0.02858005, 0.02545705, 0.0355298 , 0.02564618, 0.02036974,\n",
              "        0.45109268, 0.00294847, 0.02489504, 0.00401506, 0.00869085,\n",
              "        0.00955313, 0.00420664, 0.00319309, 0.05761183, 0.02922118,\n",
              "        0.01615365, 0.00793852, 0.03366131, 0.03016588, 0.06885853,\n",
              "        0.02339399, 0.03445221, 0.01769252, 0.03008145, 0.1347551 ])}"
            ]
          },
          "metadata": {
            "tags": []
          },
          "execution_count": 121
        }
      ]
    },
    {
      "cell_type": "code",
      "metadata": {
        "id": "n3SLJudaII0X",
        "colab_type": "code",
        "outputId": "4f3b959f-f54d-41c1-e8a3-a2e055a360c3",
        "colab": {
          "base_uri": "https://localhost:8080/",
          "height": 87
        }
      },
      "source": [
        "svc = SVC(C=0.001,kernel='rbf',random_state=100)\n",
        "svc.fit(X_train_fit,Y_train_under)"
      ],
      "execution_count": 134,
      "outputs": [
        {
          "output_type": "execute_result",
          "data": {
            "text/plain": [
              "SVC(C=0.001, break_ties=False, cache_size=200, class_weight=None, coef0=0.0,\n",
              "    decision_function_shape='ovr', degree=3, gamma='scale', kernel='rbf',\n",
              "    max_iter=-1, probability=False, random_state=100, shrinking=True, tol=0.001,\n",
              "    verbose=False)"
            ]
          },
          "metadata": {
            "tags": []
          },
          "execution_count": 134
        }
      ]
    },
    {
      "cell_type": "code",
      "metadata": {
        "id": "3tl6naTDInLh",
        "colab_type": "code",
        "colab": {}
      },
      "source": [
        "y_pred_svc = svc.predict(X_test_fit )"
      ],
      "execution_count": 0,
      "outputs": []
    },
    {
      "cell_type": "code",
      "metadata": {
        "id": "WntGjqxbI5ld",
        "colab_type": "code",
        "outputId": "97395576-51d0-4b3b-df19-183c4280250c",
        "colab": {
          "base_uri": "https://localhost:8080/",
          "height": 35
        }
      },
      "source": [
        "accuracy_score(y_true=Y_test,y_pred=y_pred_svc)"
      ],
      "execution_count": 136,
      "outputs": [
        {
          "output_type": "execute_result",
          "data": {
            "text/plain": [
              "0.5716145833333334"
            ]
          },
          "metadata": {
            "tags": []
          },
          "execution_count": 136
        }
      ]
    },
    {
      "cell_type": "code",
      "metadata": {
        "id": "OwX1jqJlI_bx",
        "colab_type": "code",
        "outputId": "e9d7cd7c-4d7b-4c35-88d4-3fde35f12b50",
        "colab": {
          "base_uri": "https://localhost:8080/",
          "height": 173
        }
      },
      "source": [
        "print(classification_report(y_true=Y_test,y_pred=y_pred_svc, target_names=['fail','pass']))"
      ],
      "execution_count": 137,
      "outputs": [
        {
          "output_type": "stream",
          "text": [
            "              precision    recall  f1-score   support\n",
            "\n",
            "        fail       0.31      0.76      0.44      1874\n",
            "        pass       0.88      0.52      0.65      6574\n",
            "\n",
            "    accuracy                           0.57      8448\n",
            "   macro avg       0.60      0.64      0.55      8448\n",
            "weighted avg       0.75      0.57      0.61      8448\n",
            "\n"
          ],
          "name": "stdout"
        }
      ]
    },
    {
      "cell_type": "code",
      "metadata": {
        "id": "p4eofg9AOgIB",
        "colab_type": "code",
        "colab": {}
      },
      "source": [
        "no_restaurants_2017 = Dataset.loc[Dataset.Date.dt.year ==2017,'business_id'].nunique()"
      ],
      "execution_count": 0,
      "outputs": []
    },
    {
      "cell_type": "code",
      "metadata": {
        "id": "AO1bGBvZPhaJ",
        "colab_type": "code",
        "colab": {}
      },
      "source": [
        "no_restaurants_2017"
      ],
      "execution_count": 0,
      "outputs": []
    },
    {
      "cell_type": "code",
      "metadata": {
        "id": "axUZ2ttqQC2T",
        "colab_type": "code",
        "colab": {}
      },
      "source": [
        "from sklearn.metrics import confusion_matrix"
      ],
      "execution_count": 0,
      "outputs": []
    },
    {
      "cell_type": "code",
      "metadata": {
        "id": "vw3_OzvgQ_nj",
        "colab_type": "code",
        "colab": {}
      },
      "source": [
        "Y_test.value_counts()"
      ],
      "execution_count": 0,
      "outputs": []
    },
    {
      "cell_type": "code",
      "metadata": {
        "id": "WmJOieGBQOex",
        "colab_type": "code",
        "colab": {}
      },
      "source": [
        "cnf_matrix =confusion_matrix(y_true=Y_test,y_pred=y_pred_rnf,labels =[0,1])"
      ],
      "execution_count": 0,
      "outputs": []
    },
    {
      "cell_type": "code",
      "metadata": {
        "id": "l3w5wyoxRbO7",
        "colab_type": "code",
        "colab": {}
      },
      "source": [
        "cnf_matrix"
      ],
      "execution_count": 0,
      "outputs": []
    },
    {
      "cell_type": "code",
      "metadata": {
        "id": "WyPfPGitRVIe",
        "colab_type": "code",
        "colab": {}
      },
      "source": [
        "tp = cnf_matrix[0,0]/len(Y_test)\n",
        "tp\n",
        "fn = cnf_matrix[0,1]/len(Y_test)\n",
        "fn\n",
        "fp = cnf_matrix[1,0]/len(Y_test)\n",
        "fp\n",
        "tn = cnf_matrix[1,1]/len(Y_test)\n",
        "tn"
      ],
      "execution_count": 0,
      "outputs": []
    },
    {
      "cell_type": "code",
      "metadata": {
        "id": "_QXDtb_2SCWu",
        "colab_type": "code",
        "colab": {}
      },
      "source": [
        "tp_year = tp * no_restaurants_2017\n",
        "fp_year = fp * no_restaurants_2017\n",
        "fn_year = fn * no_restaurants_2017\n",
        "tn_year = tn * no_restaurants_2017"
      ],
      "execution_count": 0,
      "outputs": []
    },
    {
      "cell_type": "code",
      "metadata": {
        "id": "7ahX8WvNR068",
        "colab_type": "code",
        "colab": {}
      },
      "source": [
        "predicted_year = tp_year + fp_year\n"
      ],
      "execution_count": 0,
      "outputs": []
    },
    {
      "cell_type": "code",
      "metadata": {
        "id": "e0gsZqx8WqVv",
        "colab_type": "code",
        "colab": {}
      },
      "source": [
        "0.17*no_restaurants_2017*10000\n"
      ],
      "execution_count": 0,
      "outputs": []
    },
    {
      "cell_type": "code",
      "metadata": {
        "id": "1GNzoBxYXpzd",
        "colab_type": "code",
        "colab": {}
      },
      "source": [
        "Dataset['pass'].value_counts()/Dataset.shape[0]"
      ],
      "execution_count": 0,
      "outputs": []
    },
    {
      "cell_type": "code",
      "metadata": {
        "id": "4qDmX8VsX25h",
        "colab_type": "code",
        "colab": {}
      },
      "source": [
        "(0.33-0.22)*(no_restaurants_2017/12)*(1000*12)\n",
        "# 0.33 = precision\n",
        "# 0.22 = average_process\n",
        "#no_of_restaurants_per_year = no_restaurants_2017\n",
        "# the logic is that we have a specific capacity per month i.e (no_restaurants_2017/12)\n",
        "# (the actual fails taht we catch/predicted fails) that we catch is our precision\n",
        "# hence we catch (precision-average_process)*capacity more fails per month as compared to the avergae_model\n",
        "# that multiplied by 12 is our total cost saved\n",
        "# also we dont need to care for the fact that our model caught which fail in which month\n",
        "# for example for february the fails which actually are still there are those fails which both the average model and our model did not catch?\n",
        "# the last two lines I am not sure about, needs to be inspected\n",
        "# but i think this metric is a good enough approximation of the processs\n",
        "# the main proble could be expalining why our precision is so low\n",
        "# we would have to talk about it"
      ],
      "execution_count": 0,
      "outputs": []
    },
    {
      "cell_type": "code",
      "metadata": {
        "id": "CIYsqTC8XxXf",
        "colab_type": "code",
        "colab": {}
      },
      "source": [
        ""
      ],
      "execution_count": 0,
      "outputs": []
    },
    {
      "cell_type": "code",
      "metadata": {
        "id": "UF35z-c5MsVc",
        "colab_type": "code",
        "colab": {}
      },
      "source": [
        "def get_metric(cost,y_true,y_pred,no_per_year):\n",
        "           \n",
        "0."
      ],
      "execution_count": 0,
      "outputs": []
    }
  ]
}
